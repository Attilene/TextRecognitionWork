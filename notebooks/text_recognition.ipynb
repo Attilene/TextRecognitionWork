{
 "cells": [
  {
   "cell_type": "code",
   "execution_count": 845,
   "metadata": {
    "collapsed": true,
    "pycharm": {
     "name": "#%%\n"
    }
   },
   "outputs": [],
   "source": [
    "from sklearn.feature_extraction.text import CountVectorizer\n",
    "from emot.emo_unicode import EMOTICONS_EMO, UNICODE_EMOJI\n",
    "from sklearn.model_selection import train_test_split\n",
    "from nltk.stem import WordNetLemmatizer\n",
    "from spellchecker import SpellChecker\n",
    "import matplotlib.ticker as ticker\n",
    "from nltk.corpus import stopwords\n",
    "from collections import Counter\n",
    "import matplotlib.pyplot as plt\n",
    "import pandas as pd\n",
    "import numpy as np\n",
    "import sklearn\n",
    "import string\n",
    "import nltk\n",
    "import re"
   ]
  },
  {
   "cell_type": "code",
   "execution_count": 846,
   "outputs": [
    {
     "data": {
      "text/plain": "   tweet_id     author_id  inbound                      created_at  \\\n0    119237        105834     True  Wed Oct 11 06:55:44 +0000 2017   \n1    119238  ChaseSupport    False  Wed Oct 11 13:25:49 +0000 2017   \n2    119239        105835     True  Wed Oct 11 13:00:09 +0000 2017   \n3    119240  VirginTrains    False  Tue Oct 10 15:16:08 +0000 2017   \n4    119241        105836     True  Tue Oct 10 15:17:21 +0000 2017   \n\n                                                text response_tweet_id  \\\n0  @AppleSupport causing the reply to be disregar...            119236   \n1  @105835 Your business means a lot to us. Pleas...               NaN   \n2  @76328 I really hope you all change but I'm su...            119238   \n3  @105836 LiveChat is online at the moment - htt...            119241   \n4  @VirginTrains see attached error message. I've...            119243   \n\n   in_response_to_tweet_id  \n0                      NaN  \n1                 119239.0  \n2                      NaN  \n3                 119242.0  \n4                 119240.0  ",
      "text/html": "<div>\n<style scoped>\n    .dataframe tbody tr th:only-of-type {\n        vertical-align: middle;\n    }\n\n    .dataframe tbody tr th {\n        vertical-align: top;\n    }\n\n    .dataframe thead th {\n        text-align: right;\n    }\n</style>\n<table border=\"1\" class=\"dataframe\">\n  <thead>\n    <tr style=\"text-align: right;\">\n      <th></th>\n      <th>tweet_id</th>\n      <th>author_id</th>\n      <th>inbound</th>\n      <th>created_at</th>\n      <th>text</th>\n      <th>response_tweet_id</th>\n      <th>in_response_to_tweet_id</th>\n    </tr>\n  </thead>\n  <tbody>\n    <tr>\n      <th>0</th>\n      <td>119237</td>\n      <td>105834</td>\n      <td>True</td>\n      <td>Wed Oct 11 06:55:44 +0000 2017</td>\n      <td>@AppleSupport causing the reply to be disregar...</td>\n      <td>119236</td>\n      <td>NaN</td>\n    </tr>\n    <tr>\n      <th>1</th>\n      <td>119238</td>\n      <td>ChaseSupport</td>\n      <td>False</td>\n      <td>Wed Oct 11 13:25:49 +0000 2017</td>\n      <td>@105835 Your business means a lot to us. Pleas...</td>\n      <td>NaN</td>\n      <td>119239.0</td>\n    </tr>\n    <tr>\n      <th>2</th>\n      <td>119239</td>\n      <td>105835</td>\n      <td>True</td>\n      <td>Wed Oct 11 13:00:09 +0000 2017</td>\n      <td>@76328 I really hope you all change but I'm su...</td>\n      <td>119238</td>\n      <td>NaN</td>\n    </tr>\n    <tr>\n      <th>3</th>\n      <td>119240</td>\n      <td>VirginTrains</td>\n      <td>False</td>\n      <td>Tue Oct 10 15:16:08 +0000 2017</td>\n      <td>@105836 LiveChat is online at the moment - htt...</td>\n      <td>119241</td>\n      <td>119242.0</td>\n    </tr>\n    <tr>\n      <th>4</th>\n      <td>119241</td>\n      <td>105836</td>\n      <td>True</td>\n      <td>Tue Oct 10 15:17:21 +0000 2017</td>\n      <td>@VirginTrains see attached error message. I've...</td>\n      <td>119243</td>\n      <td>119240.0</td>\n    </tr>\n  </tbody>\n</table>\n</div>"
     },
     "execution_count": 846,
     "metadata": {},
     "output_type": "execute_result"
    }
   ],
   "source": [
    "text_df = pd.read_csv(\"../data/data_sample.csv\")\n",
    "text_df.head()"
   ],
   "metadata": {
    "collapsed": false,
    "pycharm": {
     "name": "#%%\n"
    }
   }
  },
  {
   "cell_type": "code",
   "execution_count": 847,
   "outputs": [],
   "source": [
    "text_df = text_df[[\"text\"]]\n",
    "text_df[\"text\"] = text_df[\"text\"].astype(str)"
   ],
   "metadata": {
    "collapsed": false,
    "pycharm": {
     "name": "#%%\n"
    }
   }
  },
  {
   "cell_type": "code",
   "execution_count": 848,
   "outputs": [
    {
     "data": {
      "text/plain": "text    0\ndtype: int64"
     },
     "execution_count": 848,
     "metadata": {},
     "output_type": "execute_result"
    }
   ],
   "source": [
    "text_df.dropna(inplace=True)\n",
    "text_df.isna().sum()"
   ],
   "metadata": {
    "collapsed": false,
    "pycharm": {
     "name": "#%%\n"
    }
   }
  },
  {
   "cell_type": "code",
   "execution_count": 849,
   "outputs": [
    {
     "data": {
      "text/plain": "                                                text\n0  @AppleSupport causing the reply to be disregar...\n1  @105835 Your business means a lot to us. Pleas...\n2  @76328 I really hope you all change but I'm su...\n3  @105836 LiveChat is online at the moment - htt...\n4  @VirginTrains see attached error message. I've...\n5  @105836 Have you tried from another device, Mi...\n6  @VirginTrains yep, I've tried laptop too sever...\n7  @105836 It's working OK from here, Miriam. Doe...\n8  @VirginTrains I still haven't heard &amp; the ...\n9  @105836 That's what we're here for Miriam 😊  T...",
      "text/html": "<div>\n<style scoped>\n    .dataframe tbody tr th:only-of-type {\n        vertical-align: middle;\n    }\n\n    .dataframe tbody tr th {\n        vertical-align: top;\n    }\n\n    .dataframe thead th {\n        text-align: right;\n    }\n</style>\n<table border=\"1\" class=\"dataframe\">\n  <thead>\n    <tr style=\"text-align: right;\">\n      <th></th>\n      <th>text</th>\n    </tr>\n  </thead>\n  <tbody>\n    <tr>\n      <th>0</th>\n      <td>@AppleSupport causing the reply to be disregar...</td>\n    </tr>\n    <tr>\n      <th>1</th>\n      <td>@105835 Your business means a lot to us. Pleas...</td>\n    </tr>\n    <tr>\n      <th>2</th>\n      <td>@76328 I really hope you all change but I'm su...</td>\n    </tr>\n    <tr>\n      <th>3</th>\n      <td>@105836 LiveChat is online at the moment - htt...</td>\n    </tr>\n    <tr>\n      <th>4</th>\n      <td>@VirginTrains see attached error message. I've...</td>\n    </tr>\n    <tr>\n      <th>5</th>\n      <td>@105836 Have you tried from another device, Mi...</td>\n    </tr>\n    <tr>\n      <th>6</th>\n      <td>@VirginTrains yep, I've tried laptop too sever...</td>\n    </tr>\n    <tr>\n      <th>7</th>\n      <td>@105836 It's working OK from here, Miriam. Doe...</td>\n    </tr>\n    <tr>\n      <th>8</th>\n      <td>@VirginTrains I still haven't heard &amp;amp; the ...</td>\n    </tr>\n    <tr>\n      <th>9</th>\n      <td>@105836 That's what we're here for Miriam 😊  T...</td>\n    </tr>\n  </tbody>\n</table>\n</div>"
     },
     "execution_count": 849,
     "metadata": {},
     "output_type": "execute_result"
    }
   ],
   "source": [
    "text_df.head(10)"
   ],
   "metadata": {
    "collapsed": false,
    "pycharm": {
     "name": "#%%\n"
    }
   }
  },
  {
   "cell_type": "code",
   "execution_count": 850,
   "outputs": [
    {
     "name": "stdout",
     "output_type": "stream",
     "text": [
      "<class 'pandas.core.frame.DataFrame'>\n",
      "RangeIndex: 93 entries, 0 to 92\n",
      "Data columns (total 1 columns):\n",
      " #   Column  Non-Null Count  Dtype \n",
      "---  ------  --------------  ----- \n",
      " 0   text    93 non-null     object\n",
      "dtypes: object(1)\n",
      "memory usage: 872.0+ bytes\n"
     ]
    }
   ],
   "source": [
    "text_df.info()"
   ],
   "metadata": {
    "collapsed": false,
    "pycharm": {
     "name": "#%%\n"
    }
   }
  },
  {
   "cell_type": "code",
   "execution_count": 851,
   "outputs": [
    {
     "data": {
      "text/plain": "                                                text\n0  @applesupport causing the reply to be disregar...\n1  @105835 your business means a lot to us. pleas...\n2  @76328 i really hope you all change but i'm su...\n3  @105836 livechat is online at the moment - htt...\n4  @virgintrains see attached error message. i've...",
      "text/html": "<div>\n<style scoped>\n    .dataframe tbody tr th:only-of-type {\n        vertical-align: middle;\n    }\n\n    .dataframe tbody tr th {\n        vertical-align: top;\n    }\n\n    .dataframe thead th {\n        text-align: right;\n    }\n</style>\n<table border=\"1\" class=\"dataframe\">\n  <thead>\n    <tr style=\"text-align: right;\">\n      <th></th>\n      <th>text</th>\n    </tr>\n  </thead>\n  <tbody>\n    <tr>\n      <th>0</th>\n      <td>@applesupport causing the reply to be disregar...</td>\n    </tr>\n    <tr>\n      <th>1</th>\n      <td>@105835 your business means a lot to us. pleas...</td>\n    </tr>\n    <tr>\n      <th>2</th>\n      <td>@76328 i really hope you all change but i'm su...</td>\n    </tr>\n    <tr>\n      <th>3</th>\n      <td>@105836 livechat is online at the moment - htt...</td>\n    </tr>\n    <tr>\n      <th>4</th>\n      <td>@virgintrains see attached error message. i've...</td>\n    </tr>\n  </tbody>\n</table>\n</div>"
     },
     "execution_count": 851,
     "metadata": {},
     "output_type": "execute_result"
    }
   ],
   "source": [
    "text_df[\"text\"] = text_df[\"text\"].str.lower().str.strip()\n",
    "text_df.head()"
   ],
   "metadata": {
    "collapsed": false,
    "pycharm": {
     "name": "#%%\n"
    }
   }
  },
  {
   "cell_type": "code",
   "execution_count": 852,
   "outputs": [
    {
     "data": {
      "text/plain": "                                                text\n0  causing the reply to be disregarded and the ta...\n1  your business means a lot to us. please dm you...\n2  i really hope you all change but i'm sure you ...\n3  livechat is online at the moment - https://t.c...\n4  see attached error message. i've tried leaving...",
      "text/html": "<div>\n<style scoped>\n    .dataframe tbody tr th:only-of-type {\n        vertical-align: middle;\n    }\n\n    .dataframe tbody tr th {\n        vertical-align: top;\n    }\n\n    .dataframe thead th {\n        text-align: right;\n    }\n</style>\n<table border=\"1\" class=\"dataframe\">\n  <thead>\n    <tr style=\"text-align: right;\">\n      <th></th>\n      <th>text</th>\n    </tr>\n  </thead>\n  <tbody>\n    <tr>\n      <th>0</th>\n      <td>causing the reply to be disregarded and the ta...</td>\n    </tr>\n    <tr>\n      <th>1</th>\n      <td>your business means a lot to us. please dm you...</td>\n    </tr>\n    <tr>\n      <th>2</th>\n      <td>i really hope you all change but i'm sure you ...</td>\n    </tr>\n    <tr>\n      <th>3</th>\n      <td>livechat is online at the moment - https://t.c...</td>\n    </tr>\n    <tr>\n      <th>4</th>\n      <td>see attached error message. i've tried leaving...</td>\n    </tr>\n  </tbody>\n</table>\n</div>"
     },
     "execution_count": 852,
     "metadata": {},
     "output_type": "execute_result"
    }
   ],
   "source": [
    "AUTHOR_PATTERN = re.compile(r\"^@\\S+ \")\n",
    "\n",
    "def remove_author(text):\n",
    "    return re.sub(AUTHOR_PATTERN, \"\", text)\n",
    "\n",
    "text_df[\"text\"] = text_df[\"text\"].apply(remove_author)\n",
    "text_df.head()"
   ],
   "metadata": {
    "collapsed": false,
    "pycharm": {
     "name": "#%%\n"
    }
   }
  },
  {
   "cell_type": "code",
   "execution_count": 853,
   "outputs": [
    {
     "data": {
      "text/plain": "                                                text\n0  causing the reply to be disregarded and the ta...\n1  your business means a lot to us. please dm you...\n2  i really hope you all change but i'm sure you ...\n3  livechat is online at the moment -  or contact...\n4  see attached error message. i've tried leaving...",
      "text/html": "<div>\n<style scoped>\n    .dataframe tbody tr th:only-of-type {\n        vertical-align: middle;\n    }\n\n    .dataframe tbody tr th {\n        vertical-align: top;\n    }\n\n    .dataframe thead th {\n        text-align: right;\n    }\n</style>\n<table border=\"1\" class=\"dataframe\">\n  <thead>\n    <tr style=\"text-align: right;\">\n      <th></th>\n      <th>text</th>\n    </tr>\n  </thead>\n  <tbody>\n    <tr>\n      <th>0</th>\n      <td>causing the reply to be disregarded and the ta...</td>\n    </tr>\n    <tr>\n      <th>1</th>\n      <td>your business means a lot to us. please dm you...</td>\n    </tr>\n    <tr>\n      <th>2</th>\n      <td>i really hope you all change but i'm sure you ...</td>\n    </tr>\n    <tr>\n      <th>3</th>\n      <td>livechat is online at the moment -  or contact...</td>\n    </tr>\n    <tr>\n      <th>4</th>\n      <td>see attached error message. i've tried leaving...</td>\n    </tr>\n  </tbody>\n</table>\n</div>"
     },
     "execution_count": 853,
     "metadata": {},
     "output_type": "execute_result"
    }
   ],
   "source": [
    "HTTP_PATTERN = re.compile(r\"https?://\\S+|www\\.\\S+ \")\n",
    "\n",
    "def remove_http(text):\n",
    "    return re.sub(HTTP_PATTERN, \"\", text)\n",
    "\n",
    "text_df[\"text\"] = text_df[\"text\"].apply(remove_http).str.strip()\n",
    "text_df.head()"
   ],
   "metadata": {
    "collapsed": false,
    "pycharm": {
     "name": "#%%\n"
    }
   }
  },
  {
   "cell_type": "code",
   "execution_count": 854,
   "outputs": [
    {
     "data": {
      "text/plain": "                                                text\n0  causing the reply to be disregarded and the ta...\n1  your business means a lot to us. please dm you...\n2  i really hope you all change but i'm sure you ...\n3  livechat is online at the moment -  or contact...\n4  see attached error message. i've tried leaving...",
      "text/html": "<div>\n<style scoped>\n    .dataframe tbody tr th:only-of-type {\n        vertical-align: middle;\n    }\n\n    .dataframe tbody tr th {\n        vertical-align: top;\n    }\n\n    .dataframe thead th {\n        text-align: right;\n    }\n</style>\n<table border=\"1\" class=\"dataframe\">\n  <thead>\n    <tr style=\"text-align: right;\">\n      <th></th>\n      <th>text</th>\n    </tr>\n  </thead>\n  <tbody>\n    <tr>\n      <th>0</th>\n      <td>causing the reply to be disregarded and the ta...</td>\n    </tr>\n    <tr>\n      <th>1</th>\n      <td>your business means a lot to us. please dm you...</td>\n    </tr>\n    <tr>\n      <th>2</th>\n      <td>i really hope you all change but i'm sure you ...</td>\n    </tr>\n    <tr>\n      <th>3</th>\n      <td>livechat is online at the moment -  or contact...</td>\n    </tr>\n    <tr>\n      <th>4</th>\n      <td>see attached error message. i've tried leaving...</td>\n    </tr>\n  </tbody>\n</table>\n</div>"
     },
     "execution_count": 854,
     "metadata": {},
     "output_type": "execute_result"
    }
   ],
   "source": [
    "HTML_PATTERN = re.compile('<.*?>')\n",
    "\n",
    "def remove_html(text):\n",
    "    return re.sub(HTML_PATTERN, \"\", text)\n",
    "\n",
    "text_df[\"text\"] = text_df[\"text\"].apply(remove_html)\n",
    "text_df.head()"
   ],
   "metadata": {
    "collapsed": false,
    "pycharm": {
     "name": "#%%\n"
    }
   }
  },
  {
   "cell_type": "code",
   "execution_count": 855,
   "outputs": [
    {
     "data": {
      "text/plain": "                                                text\n0  causing the reply to be disregarded and the ta...\n1  your business means a lot to us. please dm you...\n2  i really hope you all change but i'm sure you ...\n3  livechat is online at the moment -  or contact...\n4  see attached error message. i've tried leaving...",
      "text/html": "<div>\n<style scoped>\n    .dataframe tbody tr th:only-of-type {\n        vertical-align: middle;\n    }\n\n    .dataframe tbody tr th {\n        vertical-align: top;\n    }\n\n    .dataframe thead th {\n        text-align: right;\n    }\n</style>\n<table border=\"1\" class=\"dataframe\">\n  <thead>\n    <tr style=\"text-align: right;\">\n      <th></th>\n      <th>text</th>\n    </tr>\n  </thead>\n  <tbody>\n    <tr>\n      <th>0</th>\n      <td>causing the reply to be disregarded and the ta...</td>\n    </tr>\n    <tr>\n      <th>1</th>\n      <td>your business means a lot to us. please dm you...</td>\n    </tr>\n    <tr>\n      <th>2</th>\n      <td>i really hope you all change but i'm sure you ...</td>\n    </tr>\n    <tr>\n      <th>3</th>\n      <td>livechat is online at the moment -  or contact...</td>\n    </tr>\n    <tr>\n      <th>4</th>\n      <td>see attached error message. i've tried leaving...</td>\n    </tr>\n  </tbody>\n</table>\n</div>"
     },
     "execution_count": 855,
     "metadata": {},
     "output_type": "execute_result"
    }
   ],
   "source": [
    "text_df[\"text\"] = text_df[\"text\"].str.replace(\"\\n\", \" \")\n",
    "text_df.head()"
   ],
   "metadata": {
    "collapsed": false,
    "pycharm": {
     "name": "#%%\n"
    }
   }
  },
  {
   "cell_type": "code",
   "execution_count": 856,
   "outputs": [
    {
     "data": {
      "text/plain": "                                                text\n0  causing the reply to be disregarded and the ta...\n1  your business means a lot to us. please dm you...\n2  i really hope you all change but i i am  sure ...\n3  livechat is online at the moment -  or contact...\n4  see attached error message. i have  tried leav...",
      "text/html": "<div>\n<style scoped>\n    .dataframe tbody tr th:only-of-type {\n        vertical-align: middle;\n    }\n\n    .dataframe tbody tr th {\n        vertical-align: top;\n    }\n\n    .dataframe thead th {\n        text-align: right;\n    }\n</style>\n<table border=\"1\" class=\"dataframe\">\n  <thead>\n    <tr style=\"text-align: right;\">\n      <th></th>\n      <th>text</th>\n    </tr>\n  </thead>\n  <tbody>\n    <tr>\n      <th>0</th>\n      <td>causing the reply to be disregarded and the ta...</td>\n    </tr>\n    <tr>\n      <th>1</th>\n      <td>your business means a lot to us. please dm you...</td>\n    </tr>\n    <tr>\n      <th>2</th>\n      <td>i really hope you all change but i i am  sure ...</td>\n    </tr>\n    <tr>\n      <th>3</th>\n      <td>livechat is online at the moment -  or contact...</td>\n    </tr>\n    <tr>\n      <th>4</th>\n      <td>see attached error message. i have  tried leav...</td>\n    </tr>\n  </tbody>\n</table>\n</div>"
     },
     "execution_count": 856,
     "metadata": {},
     "output_type": "execute_result"
    }
   ],
   "source": [
    "text_df[\"text\"] = text_df[\"text\"].str.replace(\"’\", \"'\")\n",
    "APOSTROPHES = {\n",
    "    \"'m\":    \"i am\",\n",
    "    \"'re\":   \"are\",\n",
    "    \"'ve\":   \"have\",\n",
    "    \"'ll\":   \"will\",\n",
    "    \"'d\":    \"would\",\n",
    "    \"n't\":   \"not\",\n",
    "    \"won't\": \"will not\",\n",
    "    \"can't\": \"cannot\",\n",
    "}\n",
    "\n",
    "def convert_apostrophes(text):\n",
    "    for apostrophe, value in APOSTROPHES.items():\n",
    "        text = re.sub(u'('+apostrophe+')', f' {value} ', text)\n",
    "    return text\n",
    "\n",
    "text_df[\"text\"] = text_df[\"text\"].apply(convert_apostrophes)\n",
    "text_df.head()"
   ],
   "metadata": {
    "collapsed": false,
    "pycharm": {
     "name": "#%%\n"
    }
   }
  },
  {
   "cell_type": "code",
   "execution_count": 857,
   "outputs": [
    {
     "data": {
      "text/plain": "                                                text\n0  causing the reply to be disregarded and the ta...\n1  your business means a lot to us. please dm you...\n2  i really hope you all change but i i am sure y...\n3  livechat is online at the moment - or contact ...\n4  see attached error message. i have tried leavi...",
      "text/html": "<div>\n<style scoped>\n    .dataframe tbody tr th:only-of-type {\n        vertical-align: middle;\n    }\n\n    .dataframe tbody tr th {\n        vertical-align: top;\n    }\n\n    .dataframe thead th {\n        text-align: right;\n    }\n</style>\n<table border=\"1\" class=\"dataframe\">\n  <thead>\n    <tr style=\"text-align: right;\">\n      <th></th>\n      <th>text</th>\n    </tr>\n  </thead>\n  <tbody>\n    <tr>\n      <th>0</th>\n      <td>causing the reply to be disregarded and the ta...</td>\n    </tr>\n    <tr>\n      <th>1</th>\n      <td>your business means a lot to us. please dm you...</td>\n    </tr>\n    <tr>\n      <th>2</th>\n      <td>i really hope you all change but i i am sure y...</td>\n    </tr>\n    <tr>\n      <th>3</th>\n      <td>livechat is online at the moment - or contact ...</td>\n    </tr>\n    <tr>\n      <th>4</th>\n      <td>see attached error message. i have tried leavi...</td>\n    </tr>\n  </tbody>\n</table>\n</div>"
     },
     "execution_count": 857,
     "metadata": {},
     "output_type": "execute_result"
    }
   ],
   "source": [
    "ABBREVIATIONS = {}\n",
    "\n",
    "with open(\"../data/abbr.txt\", 'r') as f:\n",
    "    for line in f.readlines():\n",
    "        line = line.lower().strip().replace(\",\", \"\")\n",
    "        k, v = line.split(\"=\")\n",
    "        ABBREVIATIONS.update({k: v})\n",
    "\n",
    "def convert_abbreviations(text):\n",
    "    return \" \".join([\n",
    "        ABBREVIATIONS[w] if w in ABBREVIATIONS else w\n",
    "        for w in text.split()\n",
    "    ])\n",
    "\n",
    "text_df[\"text\"] = text_df[\"text\"].apply(convert_abbreviations)\n",
    "text_df.head()"
   ],
   "metadata": {
    "collapsed": false,
    "pycharm": {
     "name": "#%%\n"
    }
   }
  },
  {
   "cell_type": "code",
   "execution_count": 858,
   "outputs": [
    {
     "data": {
      "text/plain": "                                                text\n0  causing the reply to be disregarded and the ta...\n1  your business means a lot to us. please dm you...\n2  i really hope you all change but i i am sure y...\n3  livechat is online at the moment - or contact ...\n4  see attached error message. i have tried leavi...",
      "text/html": "<div>\n<style scoped>\n    .dataframe tbody tr th:only-of-type {\n        vertical-align: middle;\n    }\n\n    .dataframe tbody tr th {\n        vertical-align: top;\n    }\n\n    .dataframe thead th {\n        text-align: right;\n    }\n</style>\n<table border=\"1\" class=\"dataframe\">\n  <thead>\n    <tr style=\"text-align: right;\">\n      <th></th>\n      <th>text</th>\n    </tr>\n  </thead>\n  <tbody>\n    <tr>\n      <th>0</th>\n      <td>causing the reply to be disregarded and the ta...</td>\n    </tr>\n    <tr>\n      <th>1</th>\n      <td>your business means a lot to us. please dm you...</td>\n    </tr>\n    <tr>\n      <th>2</th>\n      <td>i really hope you all change but i i am sure y...</td>\n    </tr>\n    <tr>\n      <th>3</th>\n      <td>livechat is online at the moment - or contact ...</td>\n    </tr>\n    <tr>\n      <th>4</th>\n      <td>see attached error message. i have tried leavi...</td>\n    </tr>\n  </tbody>\n</table>\n</div>"
     },
     "execution_count": 858,
     "metadata": {},
     "output_type": "execute_result"
    }
   ],
   "source": [
    "NUMBER_PATTERN = re.compile(r\"\\d*\")\n",
    "\n",
    "def remove_numbers(text):\n",
    "    return re.sub(NUMBER_PATTERN, \"\", text)\n",
    "\n",
    "text_df[\"text\"] = text_df[\"text\"].apply(remove_numbers)\n",
    "text_df.head()"
   ],
   "metadata": {
    "collapsed": false,
    "pycharm": {
     "name": "#%%\n"
    }
   }
  },
  {
   "cell_type": "code",
   "execution_count": 859,
   "outputs": [
    {
     "data": {
      "text/plain": "                                                text\n0  causing the reply to be disregarded and the ta...\n1  your business means a lot to us please dm your...\n2  i really hope you all change but i i am sure y...\n3  livechat is online at the moment  or contact  ...\n4  see attached error message i have tried leavin...",
      "text/html": "<div>\n<style scoped>\n    .dataframe tbody tr th:only-of-type {\n        vertical-align: middle;\n    }\n\n    .dataframe tbody tr th {\n        vertical-align: top;\n    }\n\n    .dataframe thead th {\n        text-align: right;\n    }\n</style>\n<table border=\"1\" class=\"dataframe\">\n  <thead>\n    <tr style=\"text-align: right;\">\n      <th></th>\n      <th>text</th>\n    </tr>\n  </thead>\n  <tbody>\n    <tr>\n      <th>0</th>\n      <td>causing the reply to be disregarded and the ta...</td>\n    </tr>\n    <tr>\n      <th>1</th>\n      <td>your business means a lot to us please dm your...</td>\n    </tr>\n    <tr>\n      <th>2</th>\n      <td>i really hope you all change but i i am sure y...</td>\n    </tr>\n    <tr>\n      <th>3</th>\n      <td>livechat is online at the moment  or contact  ...</td>\n    </tr>\n    <tr>\n      <th>4</th>\n      <td>see attached error message i have tried leavin...</td>\n    </tr>\n  </tbody>\n</table>\n</div>"
     },
     "execution_count": 859,
     "metadata": {},
     "output_type": "execute_result"
    }
   ],
   "source": [
    "PUNCTUATION_TO_REMOVE = string.punctuation\n",
    "\n",
    "def remove_punctuation(text):\n",
    "    return text.translate(str.maketrans('', '', PUNCTUATION_TO_REMOVE))\n",
    "\n",
    "text_df[\"text\"] = text_df[\"text\"].apply(remove_punctuation)\n",
    "text_df.head()"
   ],
   "metadata": {
    "collapsed": false,
    "pycharm": {
     "name": "#%%\n"
    }
   }
  },
  {
   "cell_type": "code",
   "execution_count": 860,
   "outputs": [
    {
     "data": {
      "text/plain": "                                                text\n0  causing the reply to be disregarded and the ta...\n1  your business means a lot to us please dm your...\n2  i really hope you all change but i i am sure y...\n3  livechat is online at the moment  or contact  ...\n4  see attached error message i have tried leavin...",
      "text/html": "<div>\n<style scoped>\n    .dataframe tbody tr th:only-of-type {\n        vertical-align: middle;\n    }\n\n    .dataframe tbody tr th {\n        vertical-align: top;\n    }\n\n    .dataframe thead th {\n        text-align: right;\n    }\n</style>\n<table border=\"1\" class=\"dataframe\">\n  <thead>\n    <tr style=\"text-align: right;\">\n      <th></th>\n      <th>text</th>\n    </tr>\n  </thead>\n  <tbody>\n    <tr>\n      <th>0</th>\n      <td>causing the reply to be disregarded and the ta...</td>\n    </tr>\n    <tr>\n      <th>1</th>\n      <td>your business means a lot to us please dm your...</td>\n    </tr>\n    <tr>\n      <th>2</th>\n      <td>i really hope you all change but i i am sure y...</td>\n    </tr>\n    <tr>\n      <th>3</th>\n      <td>livechat is online at the moment  or contact  ...</td>\n    </tr>\n    <tr>\n      <th>4</th>\n      <td>see attached error message i have tried leavin...</td>\n    </tr>\n  </tbody>\n</table>\n</div>"
     },
     "execution_count": 860,
     "metadata": {},
     "output_type": "execute_result"
    }
   ],
   "source": [
    "EMOT_EMOJI = {\n",
    "    emoji: value.replace(\":\", \"\").replace(\",\", \"\").replace(\" \", \"_\").lower()\n",
    "    for emoji, value in {**EMOTICONS_EMO, **UNICODE_EMOJI}.items()\n",
    "}\n",
    "\n",
    "def convert_emot_emoji(text):\n",
    "    for emoji, value in EMOT_EMOJI.items():\n",
    "        text = re.sub(u'('+re.escape(emoji)+')', f\" {value}\", text)\n",
    "    return text\n",
    "\n",
    "text_df[\"text\"] = text_df[\"text\"].apply(convert_emot_emoji)\n",
    "text_df.head()"
   ],
   "metadata": {
    "collapsed": false,
    "pycharm": {
     "name": "#%%\n"
    }
   }
  },
  {
   "cell_type": "code",
   "execution_count": 861,
   "outputs": [
    {
     "data": {
      "text/plain": "0"
     },
     "execution_count": 861,
     "metadata": {},
     "output_type": "execute_result"
    }
   ],
   "source": [
    "ENG_PATTERN = re.compile(r\"^[a-z_ ]*$\")\n",
    "\n",
    "def extract_eng(text):\n",
    "    return not re.match(ENG_PATTERN, text)\n",
    "\n",
    "text_df[\"text\"].copy().apply(extract_eng).sum()"
   ],
   "metadata": {
    "collapsed": false,
    "pycharm": {
     "name": "#%%\n"
    }
   }
  },
  {
   "cell_type": "code",
   "execution_count": 862,
   "outputs": [
    {
     "data": {
      "text/plain": "                                                text\n0  causing reply disregarded tapped notification ...\n1  business means lot us please dm name zip code ...\n2                         really hope change sure wo\n3  livechat online moment contact option leave me...\n4  see attached error message tried leaving voice...",
      "text/html": "<div>\n<style scoped>\n    .dataframe tbody tr th:only-of-type {\n        vertical-align: middle;\n    }\n\n    .dataframe tbody tr th {\n        vertical-align: top;\n    }\n\n    .dataframe thead th {\n        text-align: right;\n    }\n</style>\n<table border=\"1\" class=\"dataframe\">\n  <thead>\n    <tr style=\"text-align: right;\">\n      <th></th>\n      <th>text</th>\n    </tr>\n  </thead>\n  <tbody>\n    <tr>\n      <th>0</th>\n      <td>causing reply disregarded tapped notification ...</td>\n    </tr>\n    <tr>\n      <th>1</th>\n      <td>business means lot us please dm name zip code ...</td>\n    </tr>\n    <tr>\n      <th>2</th>\n      <td>really hope change sure wo</td>\n    </tr>\n    <tr>\n      <th>3</th>\n      <td>livechat online moment contact option leave me...</td>\n    </tr>\n    <tr>\n      <th>4</th>\n      <td>see attached error message tried leaving voice...</td>\n    </tr>\n  </tbody>\n</table>\n</div>"
     },
     "execution_count": 862,
     "metadata": {},
     "output_type": "execute_result"
    }
   ],
   "source": [
    "STOPWORDS = stopwords.words(\"english\")\n",
    "\n",
    "def remove_stopwords(text):\n",
    "    return \" \".join(w for w in nltk.word_tokenize(text) if not w in STOPWORDS)\n",
    "\n",
    "text_df[\"text\"] = text_df[\"text\"].apply(remove_stopwords)\n",
    "text_df.head()"
   ],
   "metadata": {
    "collapsed": false,
    "pycharm": {
     "name": "#%%\n"
    }
   }
  },
  {
   "cell_type": "code",
   "execution_count": 863,
   "outputs": [
    {
     "data": {
      "text/plain": "                                                text\n0  causing reply disregarded tapped notification ...\n1  business means lot us please do name zip code ...\n2                         really hope change sure wo\n3  likethat online moment contact option leave me...\n4  see attached error message tried leaving voice...",
      "text/html": "<div>\n<style scoped>\n    .dataframe tbody tr th:only-of-type {\n        vertical-align: middle;\n    }\n\n    .dataframe tbody tr th {\n        vertical-align: top;\n    }\n\n    .dataframe thead th {\n        text-align: right;\n    }\n</style>\n<table border=\"1\" class=\"dataframe\">\n  <thead>\n    <tr style=\"text-align: right;\">\n      <th></th>\n      <th>text</th>\n    </tr>\n  </thead>\n  <tbody>\n    <tr>\n      <th>0</th>\n      <td>causing reply disregarded tapped notification ...</td>\n    </tr>\n    <tr>\n      <th>1</th>\n      <td>business means lot us please do name zip code ...</td>\n    </tr>\n    <tr>\n      <th>2</th>\n      <td>really hope change sure wo</td>\n    </tr>\n    <tr>\n      <th>3</th>\n      <td>likethat online moment contact option leave me...</td>\n    </tr>\n    <tr>\n      <th>4</th>\n      <td>see attached error message tried leaving voice...</td>\n    </tr>\n  </tbody>\n</table>\n</div>"
     },
     "execution_count": 863,
     "metadata": {},
     "output_type": "execute_result"
    }
   ],
   "source": [
    "spell = SpellChecker()\n",
    "\n",
    "def correct_spellings(text):\n",
    "    corrected_text = []\n",
    "    misspelled_words = spell.unknown(text.split())\n",
    "    for w in text.split():\n",
    "        if w in misspelled_words:\n",
    "            corrected_text.append(spell.correction(w))\n",
    "        else:\n",
    "            corrected_text.append(w)\n",
    "    return \" \".join(corrected_text)\n",
    "\n",
    "text_df[\"text\"] = text_df[\"text\"].apply(correct_spellings)\n",
    "text_df.head()"
   ],
   "metadata": {
    "collapsed": false,
    "pycharm": {
     "name": "#%%\n"
    }
   }
  },
  {
   "cell_type": "code",
   "execution_count": 864,
   "outputs": [
    {
     "data": {
      "text/plain": "                                                text\n0  causing reply disregarded tapped notification ...\n1  business mean lot u please do name zip code ad...\n2                         really hope change sure wo\n3  likethat online moment contact option leave me...\n4  see attached error message tried leaving voice...",
      "text/html": "<div>\n<style scoped>\n    .dataframe tbody tr th:only-of-type {\n        vertical-align: middle;\n    }\n\n    .dataframe tbody tr th {\n        vertical-align: top;\n    }\n\n    .dataframe thead th {\n        text-align: right;\n    }\n</style>\n<table border=\"1\" class=\"dataframe\">\n  <thead>\n    <tr style=\"text-align: right;\">\n      <th></th>\n      <th>text</th>\n    </tr>\n  </thead>\n  <tbody>\n    <tr>\n      <th>0</th>\n      <td>causing reply disregarded tapped notification ...</td>\n    </tr>\n    <tr>\n      <th>1</th>\n      <td>business mean lot u please do name zip code ad...</td>\n    </tr>\n    <tr>\n      <th>2</th>\n      <td>really hope change sure wo</td>\n    </tr>\n    <tr>\n      <th>3</th>\n      <td>likethat online moment contact option leave me...</td>\n    </tr>\n    <tr>\n      <th>4</th>\n      <td>see attached error message tried leaving voice...</td>\n    </tr>\n  </tbody>\n</table>\n</div>"
     },
     "execution_count": 864,
     "metadata": {},
     "output_type": "execute_result"
    }
   ],
   "source": [
    "# Для текущего датасета предпочтительно использовать лемматизацию в виду\n",
    "# большого количества сложных слов, которые требуют более тщательной обработки,\n",
    "# что отражается на скорости обработки данных\n",
    "\n",
    "lemmatizer = WordNetLemmatizer()\n",
    "\n",
    "def lemmatize_words(text):\n",
    "    return \" \".join([lemmatizer.lemmatize(w) for w in text.split()])\n",
    "\n",
    "text_df[\"text\"] = text_df[\"text\"].apply(lemmatize_words)\n",
    "text_df.head()"
   ],
   "metadata": {
    "collapsed": false,
    "pycharm": {
     "name": "#%%\n"
    }
   }
  },
  {
   "cell_type": "code",
   "execution_count": 865,
   "outputs": [
    {
     "data": {
      "text/plain": "[('u', 25),\n ('help', 20),\n ('do', 19),\n ('thanks', 13),\n ('please', 11),\n ('would', 10),\n ('phone', 9),\n ('version', 9),\n ('hi', 9),\n ('io', 8)]"
     },
     "execution_count": 865,
     "metadata": {},
     "output_type": "execute_result"
    }
   ],
   "source": [
    "# Часто встречающиеся слова в датасете\n",
    "cnt = Counter()\n",
    "for text in text_df[\"text\"].values:\n",
    "    for word in text.split():\n",
    "        cnt[word] += 1\n",
    "\n",
    "cnt.most_common(10)"
   ],
   "metadata": {
    "collapsed": false,
    "pycharm": {
     "name": "#%%\n"
    }
   }
  },
  {
   "cell_type": "code",
   "execution_count": 866,
   "outputs": [
    {
     "data": {
      "text/plain": "                                                text\n0  causing reply disregarded tapped notification ...\n1  business mean lot name zip code additional det...\n2                         really hope change sure wo\n3  likethat online moment contact option leave me...\n4  see attached error message tried leaving voice...",
      "text/html": "<div>\n<style scoped>\n    .dataframe tbody tr th:only-of-type {\n        vertical-align: middle;\n    }\n\n    .dataframe tbody tr th {\n        vertical-align: top;\n    }\n\n    .dataframe thead th {\n        text-align: right;\n    }\n</style>\n<table border=\"1\" class=\"dataframe\">\n  <thead>\n    <tr style=\"text-align: right;\">\n      <th></th>\n      <th>text</th>\n    </tr>\n  </thead>\n  <tbody>\n    <tr>\n      <th>0</th>\n      <td>causing reply disregarded tapped notification ...</td>\n    </tr>\n    <tr>\n      <th>1</th>\n      <td>business mean lot name zip code additional det...</td>\n    </tr>\n    <tr>\n      <th>2</th>\n      <td>really hope change sure wo</td>\n    </tr>\n    <tr>\n      <th>3</th>\n      <td>likethat online moment contact option leave me...</td>\n    </tr>\n    <tr>\n      <th>4</th>\n      <td>see attached error message tried leaving voice...</td>\n    </tr>\n  </tbody>\n</table>\n</div>"
     },
     "execution_count": 866,
     "metadata": {},
     "output_type": "execute_result"
    }
   ],
   "source": [
    "FREQWORDS = set([w for (w, wc) in cnt.most_common(10)])\n",
    "\n",
    "def remove_freqwords(text):\n",
    "    return \" \".join([w for w in str(text).split() if w not in FREQWORDS])\n",
    "\n",
    "text_df[\"text\"] = text_df[\"text\"].apply(remove_freqwords)\n",
    "text_df.head()"
   ],
   "metadata": {
    "collapsed": false,
    "pycharm": {
     "name": "#%%\n"
    }
   }
  },
  {
   "cell_type": "code",
   "execution_count": 867,
   "outputs": [
    {
     "data": {
      "text/plain": "[('lee', 1),\n ('log', 1),\n ('including', 1),\n ('line', 1),\n ('green', 1),\n ('thin', 1),\n ('keen', 1),\n ('slowdown', 1),\n ('huge', 1),\n ('faves', 1),\n ('item', 1),\n ('removing', 1),\n ('cumbersome', 1),\n ('layout', 1),\n ('finding', 1),\n ('bit', 1),\n ('chris', 1),\n ('ty', 1),\n ('responding', 1),\n ('speed', 1)]"
     },
     "execution_count": 867,
     "metadata": {},
     "output_type": "execute_result"
    }
   ],
   "source": [
    "# Редко встречающиеся слова в датасете\n",
    "num_rare_words = 20\n",
    "cnt.most_common()[:-num_rare_words-1:-1]"
   ],
   "metadata": {
    "collapsed": false,
    "pycharm": {
     "name": "#%%\n"
    }
   }
  },
  {
   "cell_type": "code",
   "execution_count": 868,
   "outputs": [
    {
     "data": {
      "text/plain": "                                                text\n0  causing reply disregarded tapped notification ...\n1  business mean lot name zip code additional det...\n2                         really hope change sure wo\n3  likethat online moment contact option leave me...\n4  see attached error message tried leaving voice...",
      "text/html": "<div>\n<style scoped>\n    .dataframe tbody tr th:only-of-type {\n        vertical-align: middle;\n    }\n\n    .dataframe tbody tr th {\n        vertical-align: top;\n    }\n\n    .dataframe thead th {\n        text-align: right;\n    }\n</style>\n<table border=\"1\" class=\"dataframe\">\n  <thead>\n    <tr style=\"text-align: right;\">\n      <th></th>\n      <th>text</th>\n    </tr>\n  </thead>\n  <tbody>\n    <tr>\n      <th>0</th>\n      <td>causing reply disregarded tapped notification ...</td>\n    </tr>\n    <tr>\n      <th>1</th>\n      <td>business mean lot name zip code additional det...</td>\n    </tr>\n    <tr>\n      <th>2</th>\n      <td>really hope change sure wo</td>\n    </tr>\n    <tr>\n      <th>3</th>\n      <td>likethat online moment contact option leave me...</td>\n    </tr>\n    <tr>\n      <th>4</th>\n      <td>see attached error message tried leaving voice...</td>\n    </tr>\n  </tbody>\n</table>\n</div>"
     },
     "execution_count": 868,
     "metadata": {},
     "output_type": "execute_result"
    }
   ],
   "source": [
    "RAREWORDS = set([w for (w, wc) in cnt.most_common()[:-num_rare_words-1:-1]])\n",
    "\n",
    "def remove_rarewords(text):\n",
    "    return \" \".join([w for w in str(text).split() if w not in RAREWORDS])\n",
    "\n",
    "text_df[\"text\"] = text_df[\"text\"].apply(remove_rarewords)\n",
    "text_df.head()"
   ],
   "metadata": {
    "collapsed": false,
    "pycharm": {
     "name": "#%%\n"
    }
   }
  },
  {
   "cell_type": "code",
   "execution_count": 869,
   "outputs": [],
   "source": [
    "# Разделение на тестовую и обучающую выборки\n",
    "train_data, test_data = train_test_split(text_df[\"text\"], train_size=0.8)"
   ],
   "metadata": {
    "collapsed": false,
    "pycharm": {
     "name": "#%%\n"
    }
   }
  },
  {
   "cell_type": "code",
   "execution_count": 870,
   "outputs": [
    {
     "data": {
      "text/plain": "    ac  account  adam  address  advise  affect  affinity  age  air  aircraft  \\\n0    0        0     0        0       0       0         0    0    0         0   \n1    0        0     0        0       0       0         0    0    0         0   \n2    0        1     0        0       0       0         0    0    0         0   \n3    0        0     0        0       0       0         0    0    0         0   \n4    0        0     0        0       0       0         0    0    0         0   \n5    0        0     0        0       0       0         0    0    0         0   \n6    0        0     0        0       0       0         0    0    0         0   \n7    0        0     0        0       0       0         0    0    0         0   \n8    0        0     0        0       0       0         0    0    0         0   \n9    0        0     0        0       0       0         0    0    0         0   \n10   0        0     0        0       0       0         0    0    0         0   \n11   0        0     0        0       0       0         0    0    0         0   \n12   0        1     0        0       0       0         0    0    0         0   \n13   0        0     0        0       0       0         0    0    0         0   \n14   0        0     0        0       0       0         0    0    0         0   \n15   0        0     0        0       0       0         0    0    0         0   \n16   0        0     0        0       0       0         0    0    0         0   \n17   0        0     0        0       0       0         0    1    0         0   \n18   0        0     0        0       0       0         0    0    0         0   \n\n    ...  whatsapp  wifi  winking_face  wish  without  wo  work  working  yall  \\\n0   ...         0     0             0     0        0   0     0        0     0   \n1   ...         0     0             0     0        0   0     0        0     0   \n2   ...         0     0             0     0        0   0     0        0     0   \n3   ...         0     0             0     0        0   0     0        0     0   \n4   ...         0     0             0     0        0   0     0        0     0   \n5   ...         0     0             0     0        0   0     0        0     0   \n6   ...         0     0             0     0        0   0     0        0     0   \n7   ...         0     0             0     0        0   0     0        0     0   \n8   ...         0     0             0     0        0   0     0        0     0   \n9   ...         0     0             0     0        0   0     0        0     0   \n10  ...         0     0             0     0        0   0     0        0     0   \n11  ...         0     0             0     0        0   0     0        0     0   \n12  ...         0     0             0     0        0   0     0        0     0   \n13  ...         0     0             0     0        0   0     0        0     0   \n14  ...         0     0             0     0        0   0     0        0     0   \n15  ...         0     0             0     0        0   0     0        0     0   \n16  ...         0     0             0     0        0   0     0        0     0   \n17  ...         0     0             0     0        0   0     0        0     0   \n18  ...         1     0             0     0        0   0     0        0     0   \n\n    yard  \n0      0  \n1      0  \n2      0  \n3      0  \n4      0  \n5      0  \n6      0  \n7      0  \n8      0  \n9      0  \n10     0  \n11     0  \n12     0  \n13     0  \n14     0  \n15     0  \n16     0  \n17     0  \n18     0  \n\n[19 rows x 396 columns]",
      "text/html": "<div>\n<style scoped>\n    .dataframe tbody tr th:only-of-type {\n        vertical-align: middle;\n    }\n\n    .dataframe tbody tr th {\n        vertical-align: top;\n    }\n\n    .dataframe thead th {\n        text-align: right;\n    }\n</style>\n<table border=\"1\" class=\"dataframe\">\n  <thead>\n    <tr style=\"text-align: right;\">\n      <th></th>\n      <th>ac</th>\n      <th>account</th>\n      <th>adam</th>\n      <th>address</th>\n      <th>advise</th>\n      <th>affect</th>\n      <th>affinity</th>\n      <th>age</th>\n      <th>air</th>\n      <th>aircraft</th>\n      <th>...</th>\n      <th>whatsapp</th>\n      <th>wifi</th>\n      <th>winking_face</th>\n      <th>wish</th>\n      <th>without</th>\n      <th>wo</th>\n      <th>work</th>\n      <th>working</th>\n      <th>yall</th>\n      <th>yard</th>\n    </tr>\n  </thead>\n  <tbody>\n    <tr>\n      <th>0</th>\n      <td>0</td>\n      <td>0</td>\n      <td>0</td>\n      <td>0</td>\n      <td>0</td>\n      <td>0</td>\n      <td>0</td>\n      <td>0</td>\n      <td>0</td>\n      <td>0</td>\n      <td>...</td>\n      <td>0</td>\n      <td>0</td>\n      <td>0</td>\n      <td>0</td>\n      <td>0</td>\n      <td>0</td>\n      <td>0</td>\n      <td>0</td>\n      <td>0</td>\n      <td>0</td>\n    </tr>\n    <tr>\n      <th>1</th>\n      <td>0</td>\n      <td>0</td>\n      <td>0</td>\n      <td>0</td>\n      <td>0</td>\n      <td>0</td>\n      <td>0</td>\n      <td>0</td>\n      <td>0</td>\n      <td>0</td>\n      <td>...</td>\n      <td>0</td>\n      <td>0</td>\n      <td>0</td>\n      <td>0</td>\n      <td>0</td>\n      <td>0</td>\n      <td>0</td>\n      <td>0</td>\n      <td>0</td>\n      <td>0</td>\n    </tr>\n    <tr>\n      <th>2</th>\n      <td>0</td>\n      <td>1</td>\n      <td>0</td>\n      <td>0</td>\n      <td>0</td>\n      <td>0</td>\n      <td>0</td>\n      <td>0</td>\n      <td>0</td>\n      <td>0</td>\n      <td>...</td>\n      <td>0</td>\n      <td>0</td>\n      <td>0</td>\n      <td>0</td>\n      <td>0</td>\n      <td>0</td>\n      <td>0</td>\n      <td>0</td>\n      <td>0</td>\n      <td>0</td>\n    </tr>\n    <tr>\n      <th>3</th>\n      <td>0</td>\n      <td>0</td>\n      <td>0</td>\n      <td>0</td>\n      <td>0</td>\n      <td>0</td>\n      <td>0</td>\n      <td>0</td>\n      <td>0</td>\n      <td>0</td>\n      <td>...</td>\n      <td>0</td>\n      <td>0</td>\n      <td>0</td>\n      <td>0</td>\n      <td>0</td>\n      <td>0</td>\n      <td>0</td>\n      <td>0</td>\n      <td>0</td>\n      <td>0</td>\n    </tr>\n    <tr>\n      <th>4</th>\n      <td>0</td>\n      <td>0</td>\n      <td>0</td>\n      <td>0</td>\n      <td>0</td>\n      <td>0</td>\n      <td>0</td>\n      <td>0</td>\n      <td>0</td>\n      <td>0</td>\n      <td>...</td>\n      <td>0</td>\n      <td>0</td>\n      <td>0</td>\n      <td>0</td>\n      <td>0</td>\n      <td>0</td>\n      <td>0</td>\n      <td>0</td>\n      <td>0</td>\n      <td>0</td>\n    </tr>\n    <tr>\n      <th>5</th>\n      <td>0</td>\n      <td>0</td>\n      <td>0</td>\n      <td>0</td>\n      <td>0</td>\n      <td>0</td>\n      <td>0</td>\n      <td>0</td>\n      <td>0</td>\n      <td>0</td>\n      <td>...</td>\n      <td>0</td>\n      <td>0</td>\n      <td>0</td>\n      <td>0</td>\n      <td>0</td>\n      <td>0</td>\n      <td>0</td>\n      <td>0</td>\n      <td>0</td>\n      <td>0</td>\n    </tr>\n    <tr>\n      <th>6</th>\n      <td>0</td>\n      <td>0</td>\n      <td>0</td>\n      <td>0</td>\n      <td>0</td>\n      <td>0</td>\n      <td>0</td>\n      <td>0</td>\n      <td>0</td>\n      <td>0</td>\n      <td>...</td>\n      <td>0</td>\n      <td>0</td>\n      <td>0</td>\n      <td>0</td>\n      <td>0</td>\n      <td>0</td>\n      <td>0</td>\n      <td>0</td>\n      <td>0</td>\n      <td>0</td>\n    </tr>\n    <tr>\n      <th>7</th>\n      <td>0</td>\n      <td>0</td>\n      <td>0</td>\n      <td>0</td>\n      <td>0</td>\n      <td>0</td>\n      <td>0</td>\n      <td>0</td>\n      <td>0</td>\n      <td>0</td>\n      <td>...</td>\n      <td>0</td>\n      <td>0</td>\n      <td>0</td>\n      <td>0</td>\n      <td>0</td>\n      <td>0</td>\n      <td>0</td>\n      <td>0</td>\n      <td>0</td>\n      <td>0</td>\n    </tr>\n    <tr>\n      <th>8</th>\n      <td>0</td>\n      <td>0</td>\n      <td>0</td>\n      <td>0</td>\n      <td>0</td>\n      <td>0</td>\n      <td>0</td>\n      <td>0</td>\n      <td>0</td>\n      <td>0</td>\n      <td>...</td>\n      <td>0</td>\n      <td>0</td>\n      <td>0</td>\n      <td>0</td>\n      <td>0</td>\n      <td>0</td>\n      <td>0</td>\n      <td>0</td>\n      <td>0</td>\n      <td>0</td>\n    </tr>\n    <tr>\n      <th>9</th>\n      <td>0</td>\n      <td>0</td>\n      <td>0</td>\n      <td>0</td>\n      <td>0</td>\n      <td>0</td>\n      <td>0</td>\n      <td>0</td>\n      <td>0</td>\n      <td>0</td>\n      <td>...</td>\n      <td>0</td>\n      <td>0</td>\n      <td>0</td>\n      <td>0</td>\n      <td>0</td>\n      <td>0</td>\n      <td>0</td>\n      <td>0</td>\n      <td>0</td>\n      <td>0</td>\n    </tr>\n    <tr>\n      <th>10</th>\n      <td>0</td>\n      <td>0</td>\n      <td>0</td>\n      <td>0</td>\n      <td>0</td>\n      <td>0</td>\n      <td>0</td>\n      <td>0</td>\n      <td>0</td>\n      <td>0</td>\n      <td>...</td>\n      <td>0</td>\n      <td>0</td>\n      <td>0</td>\n      <td>0</td>\n      <td>0</td>\n      <td>0</td>\n      <td>0</td>\n      <td>0</td>\n      <td>0</td>\n      <td>0</td>\n    </tr>\n    <tr>\n      <th>11</th>\n      <td>0</td>\n      <td>0</td>\n      <td>0</td>\n      <td>0</td>\n      <td>0</td>\n      <td>0</td>\n      <td>0</td>\n      <td>0</td>\n      <td>0</td>\n      <td>0</td>\n      <td>...</td>\n      <td>0</td>\n      <td>0</td>\n      <td>0</td>\n      <td>0</td>\n      <td>0</td>\n      <td>0</td>\n      <td>0</td>\n      <td>0</td>\n      <td>0</td>\n      <td>0</td>\n    </tr>\n    <tr>\n      <th>12</th>\n      <td>0</td>\n      <td>1</td>\n      <td>0</td>\n      <td>0</td>\n      <td>0</td>\n      <td>0</td>\n      <td>0</td>\n      <td>0</td>\n      <td>0</td>\n      <td>0</td>\n      <td>...</td>\n      <td>0</td>\n      <td>0</td>\n      <td>0</td>\n      <td>0</td>\n      <td>0</td>\n      <td>0</td>\n      <td>0</td>\n      <td>0</td>\n      <td>0</td>\n      <td>0</td>\n    </tr>\n    <tr>\n      <th>13</th>\n      <td>0</td>\n      <td>0</td>\n      <td>0</td>\n      <td>0</td>\n      <td>0</td>\n      <td>0</td>\n      <td>0</td>\n      <td>0</td>\n      <td>0</td>\n      <td>0</td>\n      <td>...</td>\n      <td>0</td>\n      <td>0</td>\n      <td>0</td>\n      <td>0</td>\n      <td>0</td>\n      <td>0</td>\n      <td>0</td>\n      <td>0</td>\n      <td>0</td>\n      <td>0</td>\n    </tr>\n    <tr>\n      <th>14</th>\n      <td>0</td>\n      <td>0</td>\n      <td>0</td>\n      <td>0</td>\n      <td>0</td>\n      <td>0</td>\n      <td>0</td>\n      <td>0</td>\n      <td>0</td>\n      <td>0</td>\n      <td>...</td>\n      <td>0</td>\n      <td>0</td>\n      <td>0</td>\n      <td>0</td>\n      <td>0</td>\n      <td>0</td>\n      <td>0</td>\n      <td>0</td>\n      <td>0</td>\n      <td>0</td>\n    </tr>\n    <tr>\n      <th>15</th>\n      <td>0</td>\n      <td>0</td>\n      <td>0</td>\n      <td>0</td>\n      <td>0</td>\n      <td>0</td>\n      <td>0</td>\n      <td>0</td>\n      <td>0</td>\n      <td>0</td>\n      <td>...</td>\n      <td>0</td>\n      <td>0</td>\n      <td>0</td>\n      <td>0</td>\n      <td>0</td>\n      <td>0</td>\n      <td>0</td>\n      <td>0</td>\n      <td>0</td>\n      <td>0</td>\n    </tr>\n    <tr>\n      <th>16</th>\n      <td>0</td>\n      <td>0</td>\n      <td>0</td>\n      <td>0</td>\n      <td>0</td>\n      <td>0</td>\n      <td>0</td>\n      <td>0</td>\n      <td>0</td>\n      <td>0</td>\n      <td>...</td>\n      <td>0</td>\n      <td>0</td>\n      <td>0</td>\n      <td>0</td>\n      <td>0</td>\n      <td>0</td>\n      <td>0</td>\n      <td>0</td>\n      <td>0</td>\n      <td>0</td>\n    </tr>\n    <tr>\n      <th>17</th>\n      <td>0</td>\n      <td>0</td>\n      <td>0</td>\n      <td>0</td>\n      <td>0</td>\n      <td>0</td>\n      <td>0</td>\n      <td>1</td>\n      <td>0</td>\n      <td>0</td>\n      <td>...</td>\n      <td>0</td>\n      <td>0</td>\n      <td>0</td>\n      <td>0</td>\n      <td>0</td>\n      <td>0</td>\n      <td>0</td>\n      <td>0</td>\n      <td>0</td>\n      <td>0</td>\n    </tr>\n    <tr>\n      <th>18</th>\n      <td>0</td>\n      <td>0</td>\n      <td>0</td>\n      <td>0</td>\n      <td>0</td>\n      <td>0</td>\n      <td>0</td>\n      <td>0</td>\n      <td>0</td>\n      <td>0</td>\n      <td>...</td>\n      <td>1</td>\n      <td>0</td>\n      <td>0</td>\n      <td>0</td>\n      <td>0</td>\n      <td>0</td>\n      <td>0</td>\n      <td>0</td>\n      <td>0</td>\n      <td>0</td>\n    </tr>\n  </tbody>\n</table>\n<p>19 rows × 396 columns</p>\n</div>"
     },
     "execution_count": 870,
     "metadata": {},
     "output_type": "execute_result"
    }
   ],
   "source": [
    "# Векторизация текста на основе частоты каждого слова\n",
    "count_vect = CountVectorizer(analyzer='word')\n",
    "count_terms= count_vect.fit_transform(train_data)\n",
    "count_tokens = count_vect.get_feature_names_out()\n",
    "count_terms_vect = count_vect.transform(test_data)\n",
    "\n",
    "df_count_vect = pd.DataFrame(data = count_terms_vect.todense(), columns = count_tokens)\n",
    "df_count_vect"
   ],
   "metadata": {
    "collapsed": false,
    "pycharm": {
     "name": "#%%\n"
    }
   }
  },
  {
   "cell_type": "code",
   "execution_count": 871,
   "outputs": [
    {
     "name": "stdout",
     "output_type": "stream",
     "text": [
      "Наиболее часто встречающееся слово в датасете: amp - 3\n"
     ]
    }
   ],
   "source": [
    "df_count_vect_sum = df_count_vect.sum()\n",
    "print(f'Наиболее часто встречающееся слово в датасете: {df_count_vect_sum.idxmax()} - {df_count_vect_sum.max()}')"
   ],
   "metadata": {
    "collapsed": false,
    "pycharm": {
     "name": "#%%\n"
    }
   }
  },
  {
   "cell_type": "code",
   "execution_count": 872,
   "outputs": [
    {
     "data": {
      "text/plain": "         ac    account  adam  address  advise  affect  affinity        age  \\\ncount  19.0  19.000000  19.0     19.0    19.0    19.0      19.0  19.000000   \nmean    0.0   0.105263   0.0      0.0     0.0     0.0       0.0   0.052632   \nstd     0.0   0.315302   0.0      0.0     0.0     0.0       0.0   0.229416   \nmin     0.0   0.000000   0.0      0.0     0.0     0.0       0.0   0.000000   \n25%     0.0   0.000000   0.0      0.0     0.0     0.0       0.0   0.000000   \n50%     0.0   0.000000   0.0      0.0     0.0     0.0       0.0   0.000000   \n75%     0.0   0.000000   0.0      0.0     0.0     0.0       0.0   0.000000   \nmax     0.0   1.000000   0.0      0.0     0.0     0.0       0.0   1.000000   \n\n        air  aircraft  ...   whatsapp  wifi  winking_face  wish  without  \\\ncount  19.0      19.0  ...  19.000000  19.0          19.0  19.0     19.0   \nmean    0.0       0.0  ...   0.052632   0.0           0.0   0.0      0.0   \nstd     0.0       0.0  ...   0.229416   0.0           0.0   0.0      0.0   \nmin     0.0       0.0  ...   0.000000   0.0           0.0   0.0      0.0   \n25%     0.0       0.0  ...   0.000000   0.0           0.0   0.0      0.0   \n50%     0.0       0.0  ...   0.000000   0.0           0.0   0.0      0.0   \n75%     0.0       0.0  ...   0.000000   0.0           0.0   0.0      0.0   \nmax     0.0       0.0  ...   1.000000   0.0           0.0   0.0      0.0   \n\n         wo  work  working  yall  yard  \ncount  19.0  19.0     19.0  19.0  19.0  \nmean    0.0   0.0      0.0   0.0   0.0  \nstd     0.0   0.0      0.0   0.0   0.0  \nmin     0.0   0.0      0.0   0.0   0.0  \n25%     0.0   0.0      0.0   0.0   0.0  \n50%     0.0   0.0      0.0   0.0   0.0  \n75%     0.0   0.0      0.0   0.0   0.0  \nmax     0.0   0.0      0.0   0.0   0.0  \n\n[8 rows x 396 columns]",
      "text/html": "<div>\n<style scoped>\n    .dataframe tbody tr th:only-of-type {\n        vertical-align: middle;\n    }\n\n    .dataframe tbody tr th {\n        vertical-align: top;\n    }\n\n    .dataframe thead th {\n        text-align: right;\n    }\n</style>\n<table border=\"1\" class=\"dataframe\">\n  <thead>\n    <tr style=\"text-align: right;\">\n      <th></th>\n      <th>ac</th>\n      <th>account</th>\n      <th>adam</th>\n      <th>address</th>\n      <th>advise</th>\n      <th>affect</th>\n      <th>affinity</th>\n      <th>age</th>\n      <th>air</th>\n      <th>aircraft</th>\n      <th>...</th>\n      <th>whatsapp</th>\n      <th>wifi</th>\n      <th>winking_face</th>\n      <th>wish</th>\n      <th>without</th>\n      <th>wo</th>\n      <th>work</th>\n      <th>working</th>\n      <th>yall</th>\n      <th>yard</th>\n    </tr>\n  </thead>\n  <tbody>\n    <tr>\n      <th>count</th>\n      <td>19.0</td>\n      <td>19.000000</td>\n      <td>19.0</td>\n      <td>19.0</td>\n      <td>19.0</td>\n      <td>19.0</td>\n      <td>19.0</td>\n      <td>19.000000</td>\n      <td>19.0</td>\n      <td>19.0</td>\n      <td>...</td>\n      <td>19.000000</td>\n      <td>19.0</td>\n      <td>19.0</td>\n      <td>19.0</td>\n      <td>19.0</td>\n      <td>19.0</td>\n      <td>19.0</td>\n      <td>19.0</td>\n      <td>19.0</td>\n      <td>19.0</td>\n    </tr>\n    <tr>\n      <th>mean</th>\n      <td>0.0</td>\n      <td>0.105263</td>\n      <td>0.0</td>\n      <td>0.0</td>\n      <td>0.0</td>\n      <td>0.0</td>\n      <td>0.0</td>\n      <td>0.052632</td>\n      <td>0.0</td>\n      <td>0.0</td>\n      <td>...</td>\n      <td>0.052632</td>\n      <td>0.0</td>\n      <td>0.0</td>\n      <td>0.0</td>\n      <td>0.0</td>\n      <td>0.0</td>\n      <td>0.0</td>\n      <td>0.0</td>\n      <td>0.0</td>\n      <td>0.0</td>\n    </tr>\n    <tr>\n      <th>std</th>\n      <td>0.0</td>\n      <td>0.315302</td>\n      <td>0.0</td>\n      <td>0.0</td>\n      <td>0.0</td>\n      <td>0.0</td>\n      <td>0.0</td>\n      <td>0.229416</td>\n      <td>0.0</td>\n      <td>0.0</td>\n      <td>...</td>\n      <td>0.229416</td>\n      <td>0.0</td>\n      <td>0.0</td>\n      <td>0.0</td>\n      <td>0.0</td>\n      <td>0.0</td>\n      <td>0.0</td>\n      <td>0.0</td>\n      <td>0.0</td>\n      <td>0.0</td>\n    </tr>\n    <tr>\n      <th>min</th>\n      <td>0.0</td>\n      <td>0.000000</td>\n      <td>0.0</td>\n      <td>0.0</td>\n      <td>0.0</td>\n      <td>0.0</td>\n      <td>0.0</td>\n      <td>0.000000</td>\n      <td>0.0</td>\n      <td>0.0</td>\n      <td>...</td>\n      <td>0.000000</td>\n      <td>0.0</td>\n      <td>0.0</td>\n      <td>0.0</td>\n      <td>0.0</td>\n      <td>0.0</td>\n      <td>0.0</td>\n      <td>0.0</td>\n      <td>0.0</td>\n      <td>0.0</td>\n    </tr>\n    <tr>\n      <th>25%</th>\n      <td>0.0</td>\n      <td>0.000000</td>\n      <td>0.0</td>\n      <td>0.0</td>\n      <td>0.0</td>\n      <td>0.0</td>\n      <td>0.0</td>\n      <td>0.000000</td>\n      <td>0.0</td>\n      <td>0.0</td>\n      <td>...</td>\n      <td>0.000000</td>\n      <td>0.0</td>\n      <td>0.0</td>\n      <td>0.0</td>\n      <td>0.0</td>\n      <td>0.0</td>\n      <td>0.0</td>\n      <td>0.0</td>\n      <td>0.0</td>\n      <td>0.0</td>\n    </tr>\n    <tr>\n      <th>50%</th>\n      <td>0.0</td>\n      <td>0.000000</td>\n      <td>0.0</td>\n      <td>0.0</td>\n      <td>0.0</td>\n      <td>0.0</td>\n      <td>0.0</td>\n      <td>0.000000</td>\n      <td>0.0</td>\n      <td>0.0</td>\n      <td>...</td>\n      <td>0.000000</td>\n      <td>0.0</td>\n      <td>0.0</td>\n      <td>0.0</td>\n      <td>0.0</td>\n      <td>0.0</td>\n      <td>0.0</td>\n      <td>0.0</td>\n      <td>0.0</td>\n      <td>0.0</td>\n    </tr>\n    <tr>\n      <th>75%</th>\n      <td>0.0</td>\n      <td>0.000000</td>\n      <td>0.0</td>\n      <td>0.0</td>\n      <td>0.0</td>\n      <td>0.0</td>\n      <td>0.0</td>\n      <td>0.000000</td>\n      <td>0.0</td>\n      <td>0.0</td>\n      <td>...</td>\n      <td>0.000000</td>\n      <td>0.0</td>\n      <td>0.0</td>\n      <td>0.0</td>\n      <td>0.0</td>\n      <td>0.0</td>\n      <td>0.0</td>\n      <td>0.0</td>\n      <td>0.0</td>\n      <td>0.0</td>\n    </tr>\n    <tr>\n      <th>max</th>\n      <td>0.0</td>\n      <td>1.000000</td>\n      <td>0.0</td>\n      <td>0.0</td>\n      <td>0.0</td>\n      <td>0.0</td>\n      <td>0.0</td>\n      <td>1.000000</td>\n      <td>0.0</td>\n      <td>0.0</td>\n      <td>...</td>\n      <td>1.000000</td>\n      <td>0.0</td>\n      <td>0.0</td>\n      <td>0.0</td>\n      <td>0.0</td>\n      <td>0.0</td>\n      <td>0.0</td>\n      <td>0.0</td>\n      <td>0.0</td>\n      <td>0.0</td>\n    </tr>\n  </tbody>\n</table>\n<p>8 rows × 396 columns</p>\n</div>"
     },
     "execution_count": 872,
     "metadata": {},
     "output_type": "execute_result"
    }
   ],
   "source": [
    "df_count_vect.describe()"
   ],
   "metadata": {
    "collapsed": false,
    "pycharm": {
     "name": "#%%\n"
    }
   }
  },
  {
   "cell_type": "code",
   "execution_count": 873,
   "outputs": [
    {
     "data": {
      "text/plain": "[<matplotlib.lines.Line2D at 0x285de67c5b0>]"
     },
     "execution_count": 873,
     "metadata": {},
     "output_type": "execute_result"
    },
    {
     "data": {
      "text/plain": "<Figure size 1440x360 with 1 Axes>",
      "image/png": "[encoded data removed]"
     },
     "metadata": {
      "needs_background": "light"
     },
     "output_type": "display_data"
    }
   ],
   "source": [
    "fig = plt.figure(figsize=(20, 5))\n",
    "ax = fig.add_subplot()\n",
    "ax.set_xlabel('Слова')\n",
    "ax.set_ylabel('Частота')\n",
    "ax.set_title(\"Векторизация по частоте слов\")\n",
    "ax.xaxis.set_major_locator(ticker.MultipleLocator(df_count_vect.shape[1] / 100))\n",
    "plt.xticks(rotation = 90)\n",
    "\n",
    "plt.plot(df_count_vect_sum.sort_values())"
   ],
   "metadata": {
    "collapsed": false,
    "pycharm": {
     "name": "#%%\n"
    }
   }
  }
 ],
 "metadata": {
  "kernelspec": {
   "display_name": "Python 3",
   "language": "python",
   "name": "python3"
  },
  "language_info": {
   "codemirror_mode": {
    "name": "ipython",
    "version": 2
   },
   "file_extension": ".py",
   "mimetype": "text/x-python",
   "name": "python",
   "nbconvert_exporter": "python",
   "pygments_lexer": "ipython2",
   "version": "2.7.6"
  }
 },
 "nbformat": 4,
 "nbformat_minor": 0
}