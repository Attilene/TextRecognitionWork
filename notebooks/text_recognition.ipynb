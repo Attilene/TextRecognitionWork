{
 "cells": [
  {
   "cell_type": "code",
   "execution_count": 165,
   "metadata": {
    "collapsed": true,
    "pycharm": {
     "name": "#%%\n"
    }
   },
   "outputs": [],
   "source": [
    "from sklearn.feature_extraction.text import CountVectorizer\n",
    "from emot.emo_unicode import EMOTICONS_EMO, UNICODE_EMOJI\n",
    "from sklearn.model_selection import train_test_split\n",
    "from nltk.stem import WordNetLemmatizer\n",
    "from spellchecker import SpellChecker\n",
    "from sklearn.decomposition import PCA\n",
    "import matplotlib.ticker as ticker\n",
    "from nltk.corpus import stopwords\n",
    "from collections import Counter\n",
    "import matplotlib.pyplot as plt\n",
    "import seaborn as sb\n",
    "import pandas as pd\n",
    "import numpy as np\n",
    "import sklearn\n",
    "import string\n",
    "import nltk\n",
    "import re"
   ]
  },
  {
   "cell_type": "code",
   "execution_count": 166,
   "outputs": [
    {
     "data": {
      "text/plain": "   tweet_id   author_id  inbound                      created_at  \\\n0         1  sprintcare    False  Tue Oct 31 22:10:47 +0000 2017   \n1         2      115712     True  Tue Oct 31 22:11:45 +0000 2017   \n2         3      115712     True  Tue Oct 31 22:08:27 +0000 2017   \n3         4  sprintcare    False  Tue Oct 31 21:54:49 +0000 2017   \n4         5      115712     True  Tue Oct 31 21:49:35 +0000 2017   \n\n                                                text response_tweet_id  \\\n0  @115712 I understand. I would like to assist y...                 2   \n1      @sprintcare and how do you propose we do that               NaN   \n2  @sprintcare I have sent several private messag...                 1   \n3  @115712 Please send us a Private Message so th...                 3   \n4                                 @sprintcare I did.                 4   \n\n   in_response_to_tweet_id  \n0                      3.0  \n1                      1.0  \n2                      4.0  \n3                      5.0  \n4                      6.0  ",
      "text/html": "<div>\n<style scoped>\n    .dataframe tbody tr th:only-of-type {\n        vertical-align: middle;\n    }\n\n    .dataframe tbody tr th {\n        vertical-align: top;\n    }\n\n    .dataframe thead th {\n        text-align: right;\n    }\n</style>\n<table border=\"1\" class=\"dataframe\">\n  <thead>\n    <tr style=\"text-align: right;\">\n      <th></th>\n      <th>tweet_id</th>\n      <th>author_id</th>\n      <th>inbound</th>\n      <th>created_at</th>\n      <th>text</th>\n      <th>response_tweet_id</th>\n      <th>in_response_to_tweet_id</th>\n    </tr>\n  </thead>\n  <tbody>\n    <tr>\n      <th>0</th>\n      <td>1</td>\n      <td>sprintcare</td>\n      <td>False</td>\n      <td>Tue Oct 31 22:10:47 +0000 2017</td>\n      <td>@115712 I understand. I would like to assist y...</td>\n      <td>2</td>\n      <td>3.0</td>\n    </tr>\n    <tr>\n      <th>1</th>\n      <td>2</td>\n      <td>115712</td>\n      <td>True</td>\n      <td>Tue Oct 31 22:11:45 +0000 2017</td>\n      <td>@sprintcare and how do you propose we do that</td>\n      <td>NaN</td>\n      <td>1.0</td>\n    </tr>\n    <tr>\n      <th>2</th>\n      <td>3</td>\n      <td>115712</td>\n      <td>True</td>\n      <td>Tue Oct 31 22:08:27 +0000 2017</td>\n      <td>@sprintcare I have sent several private messag...</td>\n      <td>1</td>\n      <td>4.0</td>\n    </tr>\n    <tr>\n      <th>3</th>\n      <td>4</td>\n      <td>sprintcare</td>\n      <td>False</td>\n      <td>Tue Oct 31 21:54:49 +0000 2017</td>\n      <td>@115712 Please send us a Private Message so th...</td>\n      <td>3</td>\n      <td>5.0</td>\n    </tr>\n    <tr>\n      <th>4</th>\n      <td>5</td>\n      <td>115712</td>\n      <td>True</td>\n      <td>Tue Oct 31 21:49:35 +0000 2017</td>\n      <td>@sprintcare I did.</td>\n      <td>4</td>\n      <td>6.0</td>\n    </tr>\n  </tbody>\n</table>\n</div>"
     },
     "execution_count": 166,
     "metadata": {},
     "output_type": "execute_result"
    }
   ],
   "source": [
    "text_df = pd.read_csv(\"../data/data_full.csv\")\n",
    "text_df.head()"
   ],
   "metadata": {
    "collapsed": false,
    "pycharm": {
     "name": "#%%\n"
    }
   }
  },
  {
   "cell_type": "code",
   "execution_count": 167,
   "outputs": [],
   "source": [
    "text_df = text_df.sample(frac=0.01) # Убрать на полном датасете\n",
    "text_df = text_df[[\"text\"]]\n",
    "text_df[\"text\"] = text_df[\"text\"].astype(str)"
   ],
   "metadata": {
    "collapsed": false,
    "pycharm": {
     "name": "#%%\n"
    }
   }
  },
  {
   "cell_type": "code",
   "execution_count": 168,
   "outputs": [
    {
     "data": {
      "text/plain": "text    0\ndtype: int64"
     },
     "execution_count": 168,
     "metadata": {},
     "output_type": "execute_result"
    }
   ],
   "source": [
    "text_df.dropna(inplace=True)\n",
    "text_df.isna().sum()"
   ],
   "metadata": {
    "collapsed": false,
    "pycharm": {
     "name": "#%%\n"
    }
   }
  },
  {
   "cell_type": "code",
   "execution_count": 169,
   "outputs": [
    {
     "data": {
      "text/plain": "                                                      text\n1240028  @AppleSupport Don’t even want to talk about it...\n2245905                          @617197 No problem :) ^HP\n1420724  @482256 You will need to contact the Post Offi...\n1540406  Another wonderful flight @VirginAmerica. I’m r...\n478106   @245618 Hi there, can you please direct messag...\n941529   @366978 @nationalrailenq I can appreciate that...\n1349981       @Uber_Support  set example of worst services\n1474279  @496485 We appreciate your feedback. I’ll pass...\n2314056                  @GWRHelp OK thanks for your help.\n976960     @375648 @NikeSupport same, did you ever fix it?",
      "text/html": "<div>\n<style scoped>\n    .dataframe tbody tr th:only-of-type {\n        vertical-align: middle;\n    }\n\n    .dataframe tbody tr th {\n        vertical-align: top;\n    }\n\n    .dataframe thead th {\n        text-align: right;\n    }\n</style>\n<table border=\"1\" class=\"dataframe\">\n  <thead>\n    <tr style=\"text-align: right;\">\n      <th></th>\n      <th>text</th>\n    </tr>\n  </thead>\n  <tbody>\n    <tr>\n      <th>1240028</th>\n      <td>@AppleSupport Don’t even want to talk about it...</td>\n    </tr>\n    <tr>\n      <th>2245905</th>\n      <td>@617197 No problem :) ^HP</td>\n    </tr>\n    <tr>\n      <th>1420724</th>\n      <td>@482256 You will need to contact the Post Offi...</td>\n    </tr>\n    <tr>\n      <th>1540406</th>\n      <td>Another wonderful flight @VirginAmerica. I’m r...</td>\n    </tr>\n    <tr>\n      <th>478106</th>\n      <td>@245618 Hi there, can you please direct messag...</td>\n    </tr>\n    <tr>\n      <th>941529</th>\n      <td>@366978 @nationalrailenq I can appreciate that...</td>\n    </tr>\n    <tr>\n      <th>1349981</th>\n      <td>@Uber_Support  set example of worst services</td>\n    </tr>\n    <tr>\n      <th>1474279</th>\n      <td>@496485 We appreciate your feedback. I’ll pass...</td>\n    </tr>\n    <tr>\n      <th>2314056</th>\n      <td>@GWRHelp OK thanks for your help.</td>\n    </tr>\n    <tr>\n      <th>976960</th>\n      <td>@375648 @NikeSupport same, did you ever fix it?</td>\n    </tr>\n  </tbody>\n</table>\n</div>"
     },
     "execution_count": 169,
     "metadata": {},
     "output_type": "execute_result"
    }
   ],
   "source": [
    "text_df.head(10)"
   ],
   "metadata": {
    "collapsed": false,
    "pycharm": {
     "name": "#%%\n"
    }
   }
  },
  {
   "cell_type": "code",
   "execution_count": 170,
   "outputs": [
    {
     "name": "stdout",
     "output_type": "stream",
     "text": [
      "<class 'pandas.core.frame.DataFrame'>\n",
      "Int64Index: 28118 entries, 1240028 to 36121\n",
      "Data columns (total 1 columns):\n",
      " #   Column  Non-Null Count  Dtype \n",
      "---  ------  --------------  ----- \n",
      " 0   text    28118 non-null  object\n",
      "dtypes: object(1)\n",
      "memory usage: 439.3+ KB\n"
     ]
    }
   ],
   "source": [
    "text_df.info()"
   ],
   "metadata": {
    "collapsed": false,
    "pycharm": {
     "name": "#%%\n"
    }
   }
  },
  {
   "cell_type": "code",
   "execution_count": 171,
   "outputs": [
    {
     "data": {
      "text/plain": "                                                      text\n1240028  @applesupport don’t even want to talk about it...\n2245905                          @617197 no problem :) ^hp\n1420724  @482256 you will need to contact the post offi...\n1540406  another wonderful flight @virginamerica. i’m r...\n478106   @245618 hi there, can you please direct messag...",
      "text/html": "<div>\n<style scoped>\n    .dataframe tbody tr th:only-of-type {\n        vertical-align: middle;\n    }\n\n    .dataframe tbody tr th {\n        vertical-align: top;\n    }\n\n    .dataframe thead th {\n        text-align: right;\n    }\n</style>\n<table border=\"1\" class=\"dataframe\">\n  <thead>\n    <tr style=\"text-align: right;\">\n      <th></th>\n      <th>text</th>\n    </tr>\n  </thead>\n  <tbody>\n    <tr>\n      <th>1240028</th>\n      <td>@applesupport don’t even want to talk about it...</td>\n    </tr>\n    <tr>\n      <th>2245905</th>\n      <td>@617197 no problem :) ^hp</td>\n    </tr>\n    <tr>\n      <th>1420724</th>\n      <td>@482256 you will need to contact the post offi...</td>\n    </tr>\n    <tr>\n      <th>1540406</th>\n      <td>another wonderful flight @virginamerica. i’m r...</td>\n    </tr>\n    <tr>\n      <th>478106</th>\n      <td>@245618 hi there, can you please direct messag...</td>\n    </tr>\n  </tbody>\n</table>\n</div>"
     },
     "execution_count": 171,
     "metadata": {},
     "output_type": "execute_result"
    }
   ],
   "source": [
    "text_df[\"text\"] = text_df[\"text\"].str.lower().str.strip()\n",
    "text_df.head()"
   ],
   "metadata": {
    "collapsed": false,
    "pycharm": {
     "name": "#%%\n"
    }
   }
  },
  {
   "cell_type": "code",
   "execution_count": 172,
   "outputs": [
    {
     "data": {
      "text/plain": "                                                      text\n1240028  don’t even want to talk about it... you know t...\n2245905                                  no problem :) ^hp\n1420724  you will need to contact the post office (usps...\n1540406  another wonderful flight @virginamerica. i’m r...\n478106   hi there, can you please direct message your f...",
      "text/html": "<div>\n<style scoped>\n    .dataframe tbody tr th:only-of-type {\n        vertical-align: middle;\n    }\n\n    .dataframe tbody tr th {\n        vertical-align: top;\n    }\n\n    .dataframe thead th {\n        text-align: right;\n    }\n</style>\n<table border=\"1\" class=\"dataframe\">\n  <thead>\n    <tr style=\"text-align: right;\">\n      <th></th>\n      <th>text</th>\n    </tr>\n  </thead>\n  <tbody>\n    <tr>\n      <th>1240028</th>\n      <td>don’t even want to talk about it... you know t...</td>\n    </tr>\n    <tr>\n      <th>2245905</th>\n      <td>no problem :) ^hp</td>\n    </tr>\n    <tr>\n      <th>1420724</th>\n      <td>you will need to contact the post office (usps...</td>\n    </tr>\n    <tr>\n      <th>1540406</th>\n      <td>another wonderful flight @virginamerica. i’m r...</td>\n    </tr>\n    <tr>\n      <th>478106</th>\n      <td>hi there, can you please direct message your f...</td>\n    </tr>\n  </tbody>\n</table>\n</div>"
     },
     "execution_count": 172,
     "metadata": {},
     "output_type": "execute_result"
    }
   ],
   "source": [
    "AUTHOR_PATTERN = re.compile(r\"^@\\S+ \")\n",
    "\n",
    "def remove_author(text):\n",
    "    return re.sub(AUTHOR_PATTERN, \"\", text)\n",
    "\n",
    "text_df[\"text\"] = text_df[\"text\"].apply(remove_author)\n",
    "text_df.head()"
   ],
   "metadata": {
    "collapsed": false,
    "pycharm": {
     "name": "#%%\n"
    }
   }
  },
  {
   "cell_type": "code",
   "execution_count": 173,
   "outputs": [
    {
     "data": {
      "text/plain": "                                                      text\n1240028  don’t even want to talk about it... you know t...\n2245905                                  no problem :) ^hp\n1420724  you will need to contact the post office (usps...\n1540406  another wonderful flight @virginamerica. i’m r...\n478106   hi there, can you please direct message your f...",
      "text/html": "<div>\n<style scoped>\n    .dataframe tbody tr th:only-of-type {\n        vertical-align: middle;\n    }\n\n    .dataframe tbody tr th {\n        vertical-align: top;\n    }\n\n    .dataframe thead th {\n        text-align: right;\n    }\n</style>\n<table border=\"1\" class=\"dataframe\">\n  <thead>\n    <tr style=\"text-align: right;\">\n      <th></th>\n      <th>text</th>\n    </tr>\n  </thead>\n  <tbody>\n    <tr>\n      <th>1240028</th>\n      <td>don’t even want to talk about it... you know t...</td>\n    </tr>\n    <tr>\n      <th>2245905</th>\n      <td>no problem :) ^hp</td>\n    </tr>\n    <tr>\n      <th>1420724</th>\n      <td>you will need to contact the post office (usps...</td>\n    </tr>\n    <tr>\n      <th>1540406</th>\n      <td>another wonderful flight @virginamerica. i’m r...</td>\n    </tr>\n    <tr>\n      <th>478106</th>\n      <td>hi there, can you please direct message your f...</td>\n    </tr>\n  </tbody>\n</table>\n</div>"
     },
     "execution_count": 173,
     "metadata": {},
     "output_type": "execute_result"
    }
   ],
   "source": [
    "HTTP_PATTERN = re.compile(r\"https?://\\S+|www\\.\\S+ \")\n",
    "\n",
    "def remove_http(text):\n",
    "    return re.sub(HTTP_PATTERN, \"\", text)\n",
    "\n",
    "text_df[\"text\"] = text_df[\"text\"].apply(remove_http).str.strip()\n",
    "text_df.head()"
   ],
   "metadata": {
    "collapsed": false,
    "pycharm": {
     "name": "#%%\n"
    }
   }
  },
  {
   "cell_type": "code",
   "execution_count": 174,
   "outputs": [
    {
     "data": {
      "text/plain": "                                                      text\n1240028  don’t even want to talk about it... you know t...\n2245905                                  no problem :) ^hp\n1420724  you will need to contact the post office (usps...\n1540406  another wonderful flight @virginamerica. i’m r...\n478106   hi there, can you please direct message your f...",
      "text/html": "<div>\n<style scoped>\n    .dataframe tbody tr th:only-of-type {\n        vertical-align: middle;\n    }\n\n    .dataframe tbody tr th {\n        vertical-align: top;\n    }\n\n    .dataframe thead th {\n        text-align: right;\n    }\n</style>\n<table border=\"1\" class=\"dataframe\">\n  <thead>\n    <tr style=\"text-align: right;\">\n      <th></th>\n      <th>text</th>\n    </tr>\n  </thead>\n  <tbody>\n    <tr>\n      <th>1240028</th>\n      <td>don’t even want to talk about it... you know t...</td>\n    </tr>\n    <tr>\n      <th>2245905</th>\n      <td>no problem :) ^hp</td>\n    </tr>\n    <tr>\n      <th>1420724</th>\n      <td>you will need to contact the post office (usps...</td>\n    </tr>\n    <tr>\n      <th>1540406</th>\n      <td>another wonderful flight @virginamerica. i’m r...</td>\n    </tr>\n    <tr>\n      <th>478106</th>\n      <td>hi there, can you please direct message your f...</td>\n    </tr>\n  </tbody>\n</table>\n</div>"
     },
     "execution_count": 174,
     "metadata": {},
     "output_type": "execute_result"
    }
   ],
   "source": [
    "HTML_PATTERN = re.compile('<.*?>')\n",
    "\n",
    "def remove_html(text):\n",
    "    return re.sub(HTML_PATTERN, \"\", text)\n",
    "\n",
    "text_df[\"text\"] = text_df[\"text\"].apply(remove_html)\n",
    "text_df.head()"
   ],
   "metadata": {
    "collapsed": false,
    "pycharm": {
     "name": "#%%\n"
    }
   }
  },
  {
   "cell_type": "code",
   "execution_count": 175,
   "outputs": [
    {
     "data": {
      "text/plain": "                                                      text\n1240028  don’t even want to talk about it... you know t...\n2245905                                  no problem :) ^hp\n1420724  you will need to contact the post office (usps...\n1540406  another wonderful flight @virginamerica. i’m r...\n478106   hi there, can you please direct message your f...",
      "text/html": "<div>\n<style scoped>\n    .dataframe tbody tr th:only-of-type {\n        vertical-align: middle;\n    }\n\n    .dataframe tbody tr th {\n        vertical-align: top;\n    }\n\n    .dataframe thead th {\n        text-align: right;\n    }\n</style>\n<table border=\"1\" class=\"dataframe\">\n  <thead>\n    <tr style=\"text-align: right;\">\n      <th></th>\n      <th>text</th>\n    </tr>\n  </thead>\n  <tbody>\n    <tr>\n      <th>1240028</th>\n      <td>don’t even want to talk about it... you know t...</td>\n    </tr>\n    <tr>\n      <th>2245905</th>\n      <td>no problem :) ^hp</td>\n    </tr>\n    <tr>\n      <th>1420724</th>\n      <td>you will need to contact the post office (usps...</td>\n    </tr>\n    <tr>\n      <th>1540406</th>\n      <td>another wonderful flight @virginamerica. i’m r...</td>\n    </tr>\n    <tr>\n      <th>478106</th>\n      <td>hi there, can you please direct message your f...</td>\n    </tr>\n  </tbody>\n</table>\n</div>"
     },
     "execution_count": 175,
     "metadata": {},
     "output_type": "execute_result"
    }
   ],
   "source": [
    "text_df[\"text\"] = text_df[\"text\"].str.replace(\"\\n\", \" \")\n",
    "text_df.head()"
   ],
   "metadata": {
    "collapsed": false,
    "pycharm": {
     "name": "#%%\n"
    }
   }
  },
  {
   "cell_type": "code",
   "execution_count": 176,
   "outputs": [
    {
     "data": {
      "text/plain": "                                                      text\n1240028  do not  even want to talk about it... you know...\n2245905                                  no problem :) ^hp\n1420724  you will need to contact the post office (usps...\n1540406  another wonderful flight @virginamerica. i am ...\n478106   hi there, can you please direct message your f...",
      "text/html": "<div>\n<style scoped>\n    .dataframe tbody tr th:only-of-type {\n        vertical-align: middle;\n    }\n\n    .dataframe tbody tr th {\n        vertical-align: top;\n    }\n\n    .dataframe thead th {\n        text-align: right;\n    }\n</style>\n<table border=\"1\" class=\"dataframe\">\n  <thead>\n    <tr style=\"text-align: right;\">\n      <th></th>\n      <th>text</th>\n    </tr>\n  </thead>\n  <tbody>\n    <tr>\n      <th>1240028</th>\n      <td>do not  even want to talk about it... you know...</td>\n    </tr>\n    <tr>\n      <th>2245905</th>\n      <td>no problem :) ^hp</td>\n    </tr>\n    <tr>\n      <th>1420724</th>\n      <td>you will need to contact the post office (usps...</td>\n    </tr>\n    <tr>\n      <th>1540406</th>\n      <td>another wonderful flight @virginamerica. i am ...</td>\n    </tr>\n    <tr>\n      <th>478106</th>\n      <td>hi there, can you please direct message your f...</td>\n    </tr>\n  </tbody>\n</table>\n</div>"
     },
     "execution_count": 176,
     "metadata": {},
     "output_type": "execute_result"
    }
   ],
   "source": [
    "text_df[\"text\"] = text_df[\"text\"].str.replace(\"’\", \"'\")\n",
    "APOSTROPHES = {\n",
    "    \"'m\":    \"am\",\n",
    "    \"'re\":   \"are\",\n",
    "    \"'ve\":   \"have\",\n",
    "    \"'ll\":   \"will\",\n",
    "    \"'d\":    \"would\",\n",
    "    \"won't\": \"will not\",\n",
    "    \"can't\": \"cannot\",\n",
    "    \"n't\":   \"not\",\n",
    "}\n",
    "\n",
    "def convert_apostrophes(text):\n",
    "    for apostrophe, value in APOSTROPHES.items():\n",
    "        text = re.sub(u'('+apostrophe+')', f' {value} ', text)\n",
    "    return text\n",
    "\n",
    "text_df[\"text\"] = text_df[\"text\"].apply(convert_apostrophes)\n",
    "text_df.head()"
   ],
   "metadata": {
    "collapsed": false,
    "pycharm": {
     "name": "#%%\n"
    }
   }
  },
  {
   "cell_type": "code",
   "execution_count": 177,
   "outputs": [
    {
     "data": {
      "text/plain": "                                                      text\n1240028  do not even want to talk about it... you know ...\n2245905                                  no problem :) ^hp\n1420724  you will need to contact the post office (usps...\n1540406  another wonderful flight @virginamerica. i am ...\n478106   hi there, can you please direct message your f...",
      "text/html": "<div>\n<style scoped>\n    .dataframe tbody tr th:only-of-type {\n        vertical-align: middle;\n    }\n\n    .dataframe tbody tr th {\n        vertical-align: top;\n    }\n\n    .dataframe thead th {\n        text-align: right;\n    }\n</style>\n<table border=\"1\" class=\"dataframe\">\n  <thead>\n    <tr style=\"text-align: right;\">\n      <th></th>\n      <th>text</th>\n    </tr>\n  </thead>\n  <tbody>\n    <tr>\n      <th>1240028</th>\n      <td>do not even want to talk about it... you know ...</td>\n    </tr>\n    <tr>\n      <th>2245905</th>\n      <td>no problem :) ^hp</td>\n    </tr>\n    <tr>\n      <th>1420724</th>\n      <td>you will need to contact the post office (usps...</td>\n    </tr>\n    <tr>\n      <th>1540406</th>\n      <td>another wonderful flight @virginamerica. i am ...</td>\n    </tr>\n    <tr>\n      <th>478106</th>\n      <td>hi there, can you please direct message your f...</td>\n    </tr>\n  </tbody>\n</table>\n</div>"
     },
     "execution_count": 177,
     "metadata": {},
     "output_type": "execute_result"
    }
   ],
   "source": [
    "ABBREVIATIONS = {}\n",
    "\n",
    "with open(\"../data/abbr.txt\", 'r') as f:\n",
    "    for line in f.readlines():\n",
    "        line = line.lower().strip().replace(\",\", \"\")\n",
    "        k, v = line.split(\"=\")\n",
    "        ABBREVIATIONS.update({k: v})\n",
    "\n",
    "def convert_abbreviations(text):\n",
    "    return \" \".join([\n",
    "        ABBREVIATIONS[w] if w in ABBREVIATIONS else w\n",
    "        for w in text.split()\n",
    "    ])\n",
    "\n",
    "text_df[\"text\"] = text_df[\"text\"].apply(convert_abbreviations)\n",
    "text_df.head()"
   ],
   "metadata": {
    "collapsed": false,
    "pycharm": {
     "name": "#%%\n"
    }
   }
  },
  {
   "cell_type": "code",
   "execution_count": 178,
   "outputs": [
    {
     "data": {
      "text/plain": "                                                      text\n1240028  do not even want to talk about it... you know ...\n2245905                                  no problem :) ^hp\n1420724  you will need to contact the post office (usps...\n1540406  another wonderful flight @virginamerica. i am ...\n478106   hi there, can you please direct message your f...",
      "text/html": "<div>\n<style scoped>\n    .dataframe tbody tr th:only-of-type {\n        vertical-align: middle;\n    }\n\n    .dataframe tbody tr th {\n        vertical-align: top;\n    }\n\n    .dataframe thead th {\n        text-align: right;\n    }\n</style>\n<table border=\"1\" class=\"dataframe\">\n  <thead>\n    <tr style=\"text-align: right;\">\n      <th></th>\n      <th>text</th>\n    </tr>\n  </thead>\n  <tbody>\n    <tr>\n      <th>1240028</th>\n      <td>do not even want to talk about it... you know ...</td>\n    </tr>\n    <tr>\n      <th>2245905</th>\n      <td>no problem :) ^hp</td>\n    </tr>\n    <tr>\n      <th>1420724</th>\n      <td>you will need to contact the post office (usps...</td>\n    </tr>\n    <tr>\n      <th>1540406</th>\n      <td>another wonderful flight @virginamerica. i am ...</td>\n    </tr>\n    <tr>\n      <th>478106</th>\n      <td>hi there, can you please direct message your f...</td>\n    </tr>\n  </tbody>\n</table>\n</div>"
     },
     "execution_count": 178,
     "metadata": {},
     "output_type": "execute_result"
    }
   ],
   "source": [
    "NUMBER_PATTERN = re.compile(r\"\\d*\")\n",
    "\n",
    "def remove_numbers(text):\n",
    "    return re.sub(NUMBER_PATTERN, \"\", text)\n",
    "\n",
    "text_df[\"text\"] = text_df[\"text\"].apply(remove_numbers)\n",
    "text_df.head()"
   ],
   "metadata": {
    "collapsed": false,
    "pycharm": {
     "name": "#%%\n"
    }
   }
  },
  {
   "cell_type": "code",
   "execution_count": 179,
   "outputs": [
    {
     "data": {
      "text/plain": "                                                      text\n1240028  do not even want to talk about it you know the...\n2245905                                     no problem  hp\n1420724  you will need to contact the post office usps ...\n1540406  another wonderful flight virginamerica i am re...\n478106   hi there can you please direct message your fu...",
      "text/html": "<div>\n<style scoped>\n    .dataframe tbody tr th:only-of-type {\n        vertical-align: middle;\n    }\n\n    .dataframe tbody tr th {\n        vertical-align: top;\n    }\n\n    .dataframe thead th {\n        text-align: right;\n    }\n</style>\n<table border=\"1\" class=\"dataframe\">\n  <thead>\n    <tr style=\"text-align: right;\">\n      <th></th>\n      <th>text</th>\n    </tr>\n  </thead>\n  <tbody>\n    <tr>\n      <th>1240028</th>\n      <td>do not even want to talk about it you know the...</td>\n    </tr>\n    <tr>\n      <th>2245905</th>\n      <td>no problem  hp</td>\n    </tr>\n    <tr>\n      <th>1420724</th>\n      <td>you will need to contact the post office usps ...</td>\n    </tr>\n    <tr>\n      <th>1540406</th>\n      <td>another wonderful flight virginamerica i am re...</td>\n    </tr>\n    <tr>\n      <th>478106</th>\n      <td>hi there can you please direct message your fu...</td>\n    </tr>\n  </tbody>\n</table>\n</div>"
     },
     "execution_count": 179,
     "metadata": {},
     "output_type": "execute_result"
    }
   ],
   "source": [
    "PUNCTUATION_TO_REMOVE = string.punctuation\n",
    "\n",
    "def remove_punctuation(text):\n",
    "    return text.translate(str.maketrans('', '', PUNCTUATION_TO_REMOVE))\n",
    "\n",
    "text_df[\"text\"] = text_df[\"text\"].apply(remove_punctuation)\n",
    "text_df.head()"
   ],
   "metadata": {
    "collapsed": false,
    "pycharm": {
     "name": "#%%\n"
    }
   }
  },
  {
   "cell_type": "code",
   "execution_count": 180,
   "outputs": [
    {
     "data": {
      "text/plain": "                                                      text\n1240028  do not even want to talk about it you know the...\n2245905                                     no problem  hp\n1420724  you will need to contact the post office usps ...\n1540406  another wonderful flight virginamerica i am re...\n478106   hi there can you please direct message your fu...",
      "text/html": "<div>\n<style scoped>\n    .dataframe tbody tr th:only-of-type {\n        vertical-align: middle;\n    }\n\n    .dataframe tbody tr th {\n        vertical-align: top;\n    }\n\n    .dataframe thead th {\n        text-align: right;\n    }\n</style>\n<table border=\"1\" class=\"dataframe\">\n  <thead>\n    <tr style=\"text-align: right;\">\n      <th></th>\n      <th>text</th>\n    </tr>\n  </thead>\n  <tbody>\n    <tr>\n      <th>1240028</th>\n      <td>do not even want to talk about it you know the...</td>\n    </tr>\n    <tr>\n      <th>2245905</th>\n      <td>no problem  hp</td>\n    </tr>\n    <tr>\n      <th>1420724</th>\n      <td>you will need to contact the post office usps ...</td>\n    </tr>\n    <tr>\n      <th>1540406</th>\n      <td>another wonderful flight virginamerica i am re...</td>\n    </tr>\n    <tr>\n      <th>478106</th>\n      <td>hi there can you please direct message your fu...</td>\n    </tr>\n  </tbody>\n</table>\n</div>"
     },
     "execution_count": 180,
     "metadata": {},
     "output_type": "execute_result"
    }
   ],
   "source": [
    "EMOT_EMOJI = {\n",
    "    emoji: value.replace(\":\", \"\").replace(\",\", \"\").replace(\" \", \"_\").lower()\n",
    "    for emoji, value in {**EMOTICONS_EMO, **UNICODE_EMOJI}.items()\n",
    "}\n",
    "\n",
    "def convert_emot_emoji(text):\n",
    "    for emoji, value in EMOT_EMOJI.items():\n",
    "        text = re.sub(u'('+re.escape(emoji)+')', f\" {value}\", text)\n",
    "    return text\n",
    "\n",
    "text_df[\"text\"] = text_df[\"text\"].apply(convert_emot_emoji)\n",
    "text_df.head()"
   ],
   "metadata": {
    "collapsed": false,
    "pycharm": {
     "name": "#%%\n"
    }
   }
  },
  {
   "cell_type": "code",
   "execution_count": 181,
   "outputs": [
    {
     "data": {
      "text/plain": "1783"
     },
     "execution_count": 181,
     "metadata": {},
     "output_type": "execute_result"
    }
   ],
   "source": [
    "ENG_PATTERN = re.compile(r\"^[a-z_ ]*$\")\n",
    "\n",
    "def extract_eng(text):\n",
    "    if not re.match(ENG_PATTERN, text):\n",
    "        print(text)\n",
    "    return not re.match(ENG_PATTERN, text)\n",
    "\n",
    "text_df[\"text\"].copy().apply(extract_eng).sum()"
   ],
   "metadata": {
    "collapsed": false,
    "pycharm": {
     "name": "#%%\n"
    }
   }
  },
  {
   "cell_type": "code",
   "execution_count": 182,
   "outputs": [
    {
     "data": {
      "text/plain": "                                                      text\n1240028                       even want talk know problems\n2245905                                         problem hp\n1420724           need contact post office usps contact kd\n1540406  another wonderful flight virginamerica really ...\n478106   hi please direct message full name booking ref...",
      "text/html": "<div>\n<style scoped>\n    .dataframe tbody tr th:only-of-type {\n        vertical-align: middle;\n    }\n\n    .dataframe tbody tr th {\n        vertical-align: top;\n    }\n\n    .dataframe thead th {\n        text-align: right;\n    }\n</style>\n<table border=\"1\" class=\"dataframe\">\n  <thead>\n    <tr style=\"text-align: right;\">\n      <th></th>\n      <th>text</th>\n    </tr>\n  </thead>\n  <tbody>\n    <tr>\n      <th>1240028</th>\n      <td>even want talk know problems</td>\n    </tr>\n    <tr>\n      <th>2245905</th>\n      <td>problem hp</td>\n    </tr>\n    <tr>\n      <th>1420724</th>\n      <td>need contact post office usps contact kd</td>\n    </tr>\n    <tr>\n      <th>1540406</th>\n      <td>another wonderful flight virginamerica really ...</td>\n    </tr>\n    <tr>\n      <th>478106</th>\n      <td>hi please direct message full name booking ref...</td>\n    </tr>\n  </tbody>\n</table>\n</div>"
     },
     "execution_count": 182,
     "metadata": {},
     "output_type": "execute_result"
    }
   ],
   "source": [
    "STOPWORDS = stopwords.words(\"english\")\n",
    "\n",
    "def remove_stopwords(text):\n",
    "    return \" \".join(w for w in nltk.word_tokenize(text) if not w in STOPWORDS)\n",
    "\n",
    "text_df[\"text\"] = text_df[\"text\"].apply(remove_stopwords)\n",
    "text_df.head()"
   ],
   "metadata": {
    "collapsed": false,
    "pycharm": {
     "name": "#%%\n"
    }
   }
  },
  {
   "cell_type": "code",
   "execution_count": 183,
   "outputs": [
    {
     "name": "stderr",
     "output_type": "stream",
     "text": [
      "\n",
      "KeyboardInterrupt\n",
      "\n"
     ]
    }
   ],
   "source": [
    "spell = SpellChecker()\n",
    "\n",
    "def correct_spellings(text):\n",
    "    corrected_text = []\n",
    "    misspelled_words = spell.unknown(text.split())\n",
    "    for w in text.split():\n",
    "        if w in misspelled_words:\n",
    "            corrected_text.append(spell.correction(w))\n",
    "        else:\n",
    "            corrected_text.append(w)\n",
    "    return \" \".join(corrected_text)\n",
    "\n",
    "text_df[\"text\"] = text_df[\"text\"].apply(correct_spellings)\n",
    "text_df.head()"
   ],
   "metadata": {
    "collapsed": false,
    "pycharm": {
     "name": "#%%\n"
    }
   }
  },
  {
   "cell_type": "code",
   "execution_count": null,
   "outputs": [],
   "source": [
    "# Для текущего датасета предпочтительно использовать лемматизацию в виду\n",
    "# большого количества сложных слов, которые требуют более тщательной обработки,\n",
    "# что отражается на скорости обработки данных\n",
    "\n",
    "lemmatizer = WordNetLemmatizer()\n",
    "\n",
    "def lemmatize_words(text):\n",
    "    return \" \".join([lemmatizer.lemmatize(w) for w in text.split()])\n",
    "\n",
    "text_df[\"text\"] = text_df[\"text\"].apply(lemmatize_words)\n",
    "text_df.head()"
   ],
   "metadata": {
    "collapsed": false,
    "pycharm": {
     "name": "#%%\n"
    }
   }
  },
  {
   "cell_type": "code",
   "execution_count": null,
   "outputs": [],
   "source": [
    "# Часто встречающиеся слова в датасете\n",
    "cnt = Counter()\n",
    "for text in text_df[\"text\"].values:\n",
    "    for word in text.split():\n",
    "        cnt[word] += 1\n",
    "\n",
    "most_common = cnt.most_common(10)\n",
    "most_common"
   ],
   "metadata": {
    "collapsed": false,
    "pycharm": {
     "name": "#%%\n"
    }
   }
  },
  {
   "cell_type": "code",
   "execution_count": null,
   "outputs": [],
   "source": [
    "FREQWORDS = set([w for (w, wc) in most_common])\n",
    "\n",
    "def remove_freqwords(text):\n",
    "    return \" \".join([w for w in str(text).split() if w not in FREQWORDS])\n",
    "\n",
    "text_df[\"text\"] = text_df[\"text\"].apply(remove_freqwords)\n",
    "text_df.head()"
   ],
   "metadata": {
    "collapsed": false,
    "pycharm": {
     "name": "#%%\n"
    }
   }
  },
  {
   "cell_type": "code",
   "execution_count": null,
   "outputs": [],
   "source": [
    "# Редко встречающиеся слова в датасете\n",
    "num_rare_words = 20\n",
    "cnt.most_common()[:-num_rare_words-1:-1] # Позже улучшить"
   ],
   "metadata": {
    "collapsed": false,
    "pycharm": {
     "name": "#%%\n"
    }
   }
  },
  {
   "cell_type": "code",
   "execution_count": null,
   "outputs": [],
   "source": [
    "RAREWORDS = set([w for (w, wc) in cnt.most_common()[:-num_rare_words-1:-1]])\n",
    "\n",
    "def remove_rarewords(text):\n",
    "    return \" \".join([w for w in str(text).split() if w not in RAREWORDS])\n",
    "\n",
    "text_df[\"text\"] = text_df[\"text\"].apply(remove_rarewords)\n",
    "text_df.head()"
   ],
   "metadata": {
    "collapsed": false,
    "pycharm": {
     "name": "#%%\n"
    }
   }
  },
  {
   "cell_type": "code",
   "execution_count": null,
   "outputs": [],
   "source": [
    "# Разделение на тестовую и обучающую выборки\n",
    "train_data, test_data = train_test_split(text_df[\"text\"], train_size=0.8)"
   ],
   "metadata": {
    "collapsed": false,
    "pycharm": {
     "name": "#%%\n"
    }
   }
  },
  {
   "cell_type": "code",
   "execution_count": null,
   "outputs": [],
   "source": [
    "# Векторизация текста на основе частоты каждого слова\n",
    "count_vect = CountVectorizer(analyzer='word', max_features=500, min_df=5, max_df=0.8)\n",
    "count_terms= count_vect.fit_transform(train_data)\n",
    "count_tokens = count_vect.get_feature_names_out()\n",
    "count_terms_vect = count_vect.transform(test_data)\n",
    "\n",
    "df_count_vect = pd.DataFrame(data=count_terms_vect.todense(), columns=count_tokens)\n",
    "df_count_vect"
   ],
   "metadata": {
    "collapsed": false,
    "pycharm": {
     "name": "#%%\n"
    }
   }
  },
  {
   "cell_type": "code",
   "execution_count": null,
   "outputs": [],
   "source": [
    "df_count_vect_sum = df_count_vect.sum()\n",
    "print(f'Наиболее часто встречающееся слово в датасете: {df_count_vect_sum.idxmax()} - {df_count_vect_sum.max()}')"
   ],
   "metadata": {
    "collapsed": false,
    "pycharm": {
     "name": "#%%\n"
    }
   }
  },
  {
   "cell_type": "code",
   "execution_count": null,
   "outputs": [],
   "source": [
    "df_count_vect.describe()"
   ],
   "metadata": {
    "collapsed": false,
    "pycharm": {
     "name": "#%%\n"
    }
   }
  },
  {
   "cell_type": "code",
   "execution_count": null,
   "outputs": [],
   "source": [
    "fig, ax = plt.subplots(1, 1, figsize=(20, 5))\n",
    "ax.set_xlabel('Слова')\n",
    "ax.set_ylabel('Частота')\n",
    "ax.set_title(\"Векторизация по частоте слов\")\n",
    "ax.xaxis.set_major_locator(ticker.MultipleLocator(df_count_vect.shape[1] / 100))\n",
    "plt.xticks(rotation = 90)\n",
    "\n",
    "plt.plot(df_count_vect_sum.sort_values(ascending=False))\n",
    "plt.show()"
   ],
   "metadata": {
    "collapsed": false,
    "pycharm": {
     "name": "#%%\n"
    }
   }
  },
  {
   "cell_type": "code",
   "execution_count": null,
   "outputs": [],
   "source": [
    "# Метод главных компонентов (сжатая корреляция)\n",
    "pca = PCA(n_components=100)\n",
    "corr_pca = pca.fit_transform(df_count_vect)\n",
    "corr_pca"
   ],
   "metadata": {
    "collapsed": false,
    "pycharm": {
     "name": "#%%\n"
    }
   }
  },
  {
   "cell_type": "code",
   "execution_count": null,
   "outputs": [],
   "source": [
    "_, ax = plt.subplots(1, 1, figsize=(20, 5))\n",
    "ax.set_xlabel('Компоненты')\n",
    "ax.set_ylabel('Значения')\n",
    "ax.set_title(\"Метод главных компонентов\")\n",
    "\n",
    "plt.plot(corr_pca)\n",
    "plt.show()"
   ],
   "metadata": {
    "collapsed": false,
    "pycharm": {
     "name": "#%%\n"
    }
   }
  }
 ],
 "metadata": {
  "kernelspec": {
   "display_name": "Python 3",
   "language": "python",
   "name": "python3"
  },
  "language_info": {
   "codemirror_mode": {
    "name": "ipython",
    "version": 2
   },
   "file_extension": ".py",
   "mimetype": "text/x-python",
   "name": "python",
   "nbconvert_exporter": "python",
   "pygments_lexer": "ipython2",
   "version": "2.7.6"
  }
 },
 "nbformat": 4,
 "nbformat_minor": 0
}